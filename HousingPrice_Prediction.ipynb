{
 "cells": [
  {
   "cell_type": "markdown",
   "id": "8724b46b",
   "metadata": {},
   "source": [
    "### Houing Price Predicton\n",
    "\n",
    "Goal :\n",
    "The objective of this hackathon is to show case your  ML1  learning  particularly  feature engineering skills leveraging primary and secondary datasets to develop a regression model for predicting the house price in Bengaluru. This predictive model will help the  to make purchasing/renting decisions by predicting fair housing prices.\n",
    "\n",
    "Metric to measure :\n",
    "The measure of accuracy will be RMSE (root mean square error). The predicted Price for each house in the test dataset will be compared with the actual Price to calculate the RMSE value of the entire prediction. The lower the RMSE value, the better the model will be."
   ]
  },
  {
   "cell_type": "code",
   "execution_count": 134,
   "id": "e68f2f25",
   "metadata": {},
   "outputs": [],
   "source": [
    "import numpy as np\n",
    "import pandas as pd\n",
    "import matplotlib.pyplot as plt\n",
    "import seaborn as sns"
   ]
  },
  {
   "cell_type": "code",
   "execution_count": 135,
   "id": "54b9d4ac",
   "metadata": {
    "scrolled": true
   },
   "outputs": [
    {
     "data": {
      "text/html": [
       "<div>\n",
       "<style scoped>\n",
       "    .dataframe tbody tr th:only-of-type {\n",
       "        vertical-align: middle;\n",
       "    }\n",
       "\n",
       "    .dataframe tbody tr th {\n",
       "        vertical-align: top;\n",
       "    }\n",
       "\n",
       "    .dataframe thead th {\n",
       "        text-align: right;\n",
       "    }\n",
       "</style>\n",
       "<table border=\"1\" class=\"dataframe\">\n",
       "  <thead>\n",
       "    <tr style=\"text-align: right;\">\n",
       "      <th></th>\n",
       "      <th>ID</th>\n",
       "      <th>area_type</th>\n",
       "      <th>availability</th>\n",
       "      <th>location</th>\n",
       "      <th>size</th>\n",
       "      <th>society</th>\n",
       "      <th>total_sqft</th>\n",
       "      <th>bath</th>\n",
       "      <th>balcony</th>\n",
       "      <th>price</th>\n",
       "    </tr>\n",
       "  </thead>\n",
       "  <tbody>\n",
       "    <tr>\n",
       "      <th>0</th>\n",
       "      <td>0</td>\n",
       "      <td>Super built-up  Area</td>\n",
       "      <td>19-Dec</td>\n",
       "      <td>Electronic City Phase II</td>\n",
       "      <td>2 BHK</td>\n",
       "      <td>Coomee</td>\n",
       "      <td>1056</td>\n",
       "      <td>2.0</td>\n",
       "      <td>1.0</td>\n",
       "      <td>39.07</td>\n",
       "    </tr>\n",
       "    <tr>\n",
       "      <th>1</th>\n",
       "      <td>1</td>\n",
       "      <td>Plot  Area</td>\n",
       "      <td>Ready To Move</td>\n",
       "      <td>Chikka Tirupathi</td>\n",
       "      <td>4 Bedroom</td>\n",
       "      <td>Theanmp</td>\n",
       "      <td>2600</td>\n",
       "      <td>5.0</td>\n",
       "      <td>3.0</td>\n",
       "      <td>120.00</td>\n",
       "    </tr>\n",
       "    <tr>\n",
       "      <th>2</th>\n",
       "      <td>2</td>\n",
       "      <td>Built-up  Area</td>\n",
       "      <td>Ready To Move</td>\n",
       "      <td>Uttarahalli</td>\n",
       "      <td>3 BHK</td>\n",
       "      <td>NaN</td>\n",
       "      <td>1440</td>\n",
       "      <td>2.0</td>\n",
       "      <td>3.0</td>\n",
       "      <td>62.00</td>\n",
       "    </tr>\n",
       "    <tr>\n",
       "      <th>3</th>\n",
       "      <td>3</td>\n",
       "      <td>Super built-up  Area</td>\n",
       "      <td>Ready To Move</td>\n",
       "      <td>Lingadheeranahalli</td>\n",
       "      <td>3 BHK</td>\n",
       "      <td>Soiewre</td>\n",
       "      <td>1521</td>\n",
       "      <td>3.0</td>\n",
       "      <td>1.0</td>\n",
       "      <td>95.00</td>\n",
       "    </tr>\n",
       "    <tr>\n",
       "      <th>4</th>\n",
       "      <td>4</td>\n",
       "      <td>Super built-up  Area</td>\n",
       "      <td>Ready To Move</td>\n",
       "      <td>Kothanur</td>\n",
       "      <td>2 BHK</td>\n",
       "      <td>NaN</td>\n",
       "      <td>1200</td>\n",
       "      <td>2.0</td>\n",
       "      <td>1.0</td>\n",
       "      <td>51.00</td>\n",
       "    </tr>\n",
       "  </tbody>\n",
       "</table>\n",
       "</div>"
      ],
      "text/plain": [
       "   ID             area_type   availability                  location  \\\n",
       "0   0  Super built-up  Area         19-Dec  Electronic City Phase II   \n",
       "1   1            Plot  Area  Ready To Move          Chikka Tirupathi   \n",
       "2   2        Built-up  Area  Ready To Move               Uttarahalli   \n",
       "3   3  Super built-up  Area  Ready To Move        Lingadheeranahalli   \n",
       "4   4  Super built-up  Area  Ready To Move                  Kothanur   \n",
       "\n",
       "        size  society total_sqft  bath  balcony   price  \n",
       "0      2 BHK  Coomee        1056   2.0      1.0   39.07  \n",
       "1  4 Bedroom  Theanmp       2600   5.0      3.0  120.00  \n",
       "2      3 BHK      NaN       1440   2.0      3.0   62.00  \n",
       "3      3 BHK  Soiewre       1521   3.0      1.0   95.00  \n",
       "4      2 BHK      NaN       1200   2.0      1.0   51.00  "
      ]
     },
     "execution_count": 135,
     "metadata": {},
     "output_type": "execute_result"
    }
   ],
   "source": [
    "housing_data = pd.read_csv('train.csv')\n",
    "housing_data.head(5)"
   ]
  },
  {
   "cell_type": "markdown",
   "id": "024779c7",
   "metadata": {},
   "source": [
    "### Data Summary"
   ]
  },
  {
   "cell_type": "code",
   "execution_count": 136,
   "id": "09c73f29",
   "metadata": {
    "scrolled": true
   },
   "outputs": [
    {
     "name": "stdout",
     "output_type": "stream",
     "text": [
      "<class 'pandas.core.frame.DataFrame'>\n",
      "RangeIndex: 10656 entries, 0 to 10655\n",
      "Data columns (total 10 columns):\n",
      " #   Column        Non-Null Count  Dtype  \n",
      "---  ------        --------------  -----  \n",
      " 0   ID            10656 non-null  int64  \n",
      " 1   area_type     10656 non-null  object \n",
      " 2   availability  10656 non-null  object \n",
      " 3   location      10655 non-null  object \n",
      " 4   size          10642 non-null  object \n",
      " 5   society       6228 non-null   object \n",
      " 6   total_sqft    10656 non-null  object \n",
      " 7   bath          10591 non-null  float64\n",
      " 8   balcony       10152 non-null  float64\n",
      " 9   price         10656 non-null  float64\n",
      "dtypes: float64(3), int64(1), object(6)\n",
      "memory usage: 832.6+ KB\n"
     ]
    }
   ],
   "source": [
    "housing_data.info()"
   ]
  },
  {
   "cell_type": "markdown",
   "id": "7bc52b02",
   "metadata": {},
   "source": [
    "Data has 10 variables"
   ]
  },
  {
   "cell_type": "code",
   "execution_count": 137,
   "id": "ddffb3b7",
   "metadata": {
    "scrolled": false
   },
   "outputs": [
    {
     "data": {
      "text/html": [
       "<div>\n",
       "<style scoped>\n",
       "    .dataframe tbody tr th:only-of-type {\n",
       "        vertical-align: middle;\n",
       "    }\n",
       "\n",
       "    .dataframe tbody tr th {\n",
       "        vertical-align: top;\n",
       "    }\n",
       "\n",
       "    .dataframe thead th {\n",
       "        text-align: right;\n",
       "    }\n",
       "</style>\n",
       "<table border=\"1\" class=\"dataframe\">\n",
       "  <thead>\n",
       "    <tr style=\"text-align: right;\">\n",
       "      <th></th>\n",
       "      <th>ID</th>\n",
       "      <th>bath</th>\n",
       "      <th>balcony</th>\n",
       "      <th>price</th>\n",
       "    </tr>\n",
       "  </thead>\n",
       "  <tbody>\n",
       "    <tr>\n",
       "      <th>count</th>\n",
       "      <td>10656.000000</td>\n",
       "      <td>10591.000000</td>\n",
       "      <td>10152.000000</td>\n",
       "      <td>10656.000000</td>\n",
       "    </tr>\n",
       "    <tr>\n",
       "      <th>mean</th>\n",
       "      <td>5327.500000</td>\n",
       "      <td>2.690586</td>\n",
       "      <td>1.581757</td>\n",
       "      <td>112.214256</td>\n",
       "    </tr>\n",
       "    <tr>\n",
       "      <th>std</th>\n",
       "      <td>3076.266568</td>\n",
       "      <td>1.352403</td>\n",
       "      <td>0.821357</td>\n",
       "      <td>142.231967</td>\n",
       "    </tr>\n",
       "    <tr>\n",
       "      <th>min</th>\n",
       "      <td>0.000000</td>\n",
       "      <td>1.000000</td>\n",
       "      <td>0.000000</td>\n",
       "      <td>8.000000</td>\n",
       "    </tr>\n",
       "    <tr>\n",
       "      <th>25%</th>\n",
       "      <td>2663.750000</td>\n",
       "      <td>2.000000</td>\n",
       "      <td>1.000000</td>\n",
       "      <td>50.000000</td>\n",
       "    </tr>\n",
       "    <tr>\n",
       "      <th>50%</th>\n",
       "      <td>5327.500000</td>\n",
       "      <td>2.000000</td>\n",
       "      <td>2.000000</td>\n",
       "      <td>72.000000</td>\n",
       "    </tr>\n",
       "    <tr>\n",
       "      <th>75%</th>\n",
       "      <td>7991.250000</td>\n",
       "      <td>3.000000</td>\n",
       "      <td>2.000000</td>\n",
       "      <td>120.000000</td>\n",
       "    </tr>\n",
       "    <tr>\n",
       "      <th>max</th>\n",
       "      <td>10655.000000</td>\n",
       "      <td>40.000000</td>\n",
       "      <td>3.000000</td>\n",
       "      <td>2700.000000</td>\n",
       "    </tr>\n",
       "  </tbody>\n",
       "</table>\n",
       "</div>"
      ],
      "text/plain": [
       "                 ID          bath       balcony         price\n",
       "count  10656.000000  10591.000000  10152.000000  10656.000000\n",
       "mean    5327.500000      2.690586      1.581757    112.214256\n",
       "std     3076.266568      1.352403      0.821357    142.231967\n",
       "min        0.000000      1.000000      0.000000      8.000000\n",
       "25%     2663.750000      2.000000      1.000000     50.000000\n",
       "50%     5327.500000      2.000000      2.000000     72.000000\n",
       "75%     7991.250000      3.000000      2.000000    120.000000\n",
       "max    10655.000000     40.000000      3.000000   2700.000000"
      ]
     },
     "execution_count": 137,
     "metadata": {},
     "output_type": "execute_result"
    }
   ],
   "source": [
    "housing_data.describe()"
   ]
  },
  {
   "cell_type": "code",
   "execution_count": 138,
   "id": "8144f237",
   "metadata": {
    "scrolled": false
   },
   "outputs": [
    {
     "data": {
      "text/html": [
       "<div>\n",
       "<style scoped>\n",
       "    .dataframe tbody tr th:only-of-type {\n",
       "        vertical-align: middle;\n",
       "    }\n",
       "\n",
       "    .dataframe tbody tr th {\n",
       "        vertical-align: top;\n",
       "    }\n",
       "\n",
       "    .dataframe thead th {\n",
       "        text-align: right;\n",
       "    }\n",
       "</style>\n",
       "<table border=\"1\" class=\"dataframe\">\n",
       "  <thead>\n",
       "    <tr style=\"text-align: right;\">\n",
       "      <th></th>\n",
       "      <th>location</th>\n",
       "      <th>avg_2bhk_rent</th>\n",
       "    </tr>\n",
       "  </thead>\n",
       "  <tbody>\n",
       "    <tr>\n",
       "      <th>0</th>\n",
       "      <td>Krishnarajapura</td>\n",
       "      <td>11954</td>\n",
       "    </tr>\n",
       "    <tr>\n",
       "      <th>1</th>\n",
       "      <td>Sarjapur</td>\n",
       "      <td>45000</td>\n",
       "    </tr>\n",
       "    <tr>\n",
       "      <th>2</th>\n",
       "      <td>Whitefield Hope Farm Junction</td>\n",
       "      <td>26370</td>\n",
       "    </tr>\n",
       "    <tr>\n",
       "      <th>3</th>\n",
       "      <td>Devanahalli</td>\n",
       "      <td>17302</td>\n",
       "    </tr>\n",
       "    <tr>\n",
       "      <th>4</th>\n",
       "      <td>Whitefield</td>\n",
       "      <td>14981</td>\n",
       "    </tr>\n",
       "  </tbody>\n",
       "</table>\n",
       "</div>"
      ],
      "text/plain": [
       "                        location  avg_2bhk_rent\n",
       "0                Krishnarajapura          11954\n",
       "1                       Sarjapur          45000\n",
       "2  Whitefield Hope Farm Junction          26370\n",
       "3                    Devanahalli          17302\n",
       "4                     Whitefield          14981"
      ]
     },
     "execution_count": 138,
     "metadata": {},
     "output_type": "execute_result"
    }
   ],
   "source": [
    "# 2nd table \n",
    "avg_rent = pd.read_csv('avg_rent.csv')\n",
    "avg_rent.head()"
   ]
  },
  {
   "cell_type": "code",
   "execution_count": 139,
   "id": "c5f98277",
   "metadata": {
    "scrolled": true
   },
   "outputs": [
    {
     "name": "stdout",
     "output_type": "stream",
     "text": [
      "<class 'pandas.core.frame.DataFrame'>\n",
      "RangeIndex: 157 entries, 0 to 156\n",
      "Data columns (total 2 columns):\n",
      " #   Column         Non-Null Count  Dtype \n",
      "---  ------         --------------  ----- \n",
      " 0   location       157 non-null    object\n",
      " 1   avg_2bhk_rent  157 non-null    int64 \n",
      "dtypes: int64(1), object(1)\n",
      "memory usage: 2.6+ KB\n"
     ]
    }
   ],
   "source": [
    "avg_rent.info()"
   ]
  },
  {
   "cell_type": "code",
   "execution_count": 140,
   "id": "2b35b35f",
   "metadata": {},
   "outputs": [
    {
     "data": {
      "text/html": [
       "<div>\n",
       "<style scoped>\n",
       "    .dataframe tbody tr th:only-of-type {\n",
       "        vertical-align: middle;\n",
       "    }\n",
       "\n",
       "    .dataframe tbody tr th {\n",
       "        vertical-align: top;\n",
       "    }\n",
       "\n",
       "    .dataframe thead th {\n",
       "        text-align: right;\n",
       "    }\n",
       "</style>\n",
       "<table border=\"1\" class=\"dataframe\">\n",
       "  <thead>\n",
       "    <tr style=\"text-align: right;\">\n",
       "      <th></th>\n",
       "      <th>avg_2bhk_rent</th>\n",
       "    </tr>\n",
       "  </thead>\n",
       "  <tbody>\n",
       "    <tr>\n",
       "      <th>count</th>\n",
       "      <td>157.000000</td>\n",
       "    </tr>\n",
       "    <tr>\n",
       "      <th>mean</th>\n",
       "      <td>21801.299363</td>\n",
       "    </tr>\n",
       "    <tr>\n",
       "      <th>std</th>\n",
       "      <td>62833.999789</td>\n",
       "    </tr>\n",
       "    <tr>\n",
       "      <th>min</th>\n",
       "      <td>1756.000000</td>\n",
       "    </tr>\n",
       "    <tr>\n",
       "      <th>25%</th>\n",
       "      <td>13333.000000</td>\n",
       "    </tr>\n",
       "    <tr>\n",
       "      <th>50%</th>\n",
       "      <td>16000.000000</td>\n",
       "    </tr>\n",
       "    <tr>\n",
       "      <th>75%</th>\n",
       "      <td>20250.000000</td>\n",
       "    </tr>\n",
       "    <tr>\n",
       "      <th>max</th>\n",
       "      <td>800000.000000</td>\n",
       "    </tr>\n",
       "  </tbody>\n",
       "</table>\n",
       "</div>"
      ],
      "text/plain": [
       "       avg_2bhk_rent\n",
       "count     157.000000\n",
       "mean    21801.299363\n",
       "std     62833.999789\n",
       "min      1756.000000\n",
       "25%     13333.000000\n",
       "50%     16000.000000\n",
       "75%     20250.000000\n",
       "max    800000.000000"
      ]
     },
     "execution_count": 140,
     "metadata": {},
     "output_type": "execute_result"
    }
   ],
   "source": [
    "avg_rent.describe()"
   ]
  },
  {
   "cell_type": "code",
   "execution_count": 141,
   "id": "4d10e3d1",
   "metadata": {},
   "outputs": [
    {
     "data": {
      "text/html": [
       "<div>\n",
       "<style scoped>\n",
       "    .dataframe tbody tr th:only-of-type {\n",
       "        vertical-align: middle;\n",
       "    }\n",
       "\n",
       "    .dataframe tbody tr th {\n",
       "        vertical-align: top;\n",
       "    }\n",
       "\n",
       "    .dataframe thead th {\n",
       "        text-align: right;\n",
       "    }\n",
       "</style>\n",
       "<table border=\"1\" class=\"dataframe\">\n",
       "  <thead>\n",
       "    <tr style=\"text-align: right;\">\n",
       "      <th></th>\n",
       "      <th>location</th>\n",
       "      <th>dist_from_city</th>\n",
       "    </tr>\n",
       "  </thead>\n",
       "  <tbody>\n",
       "    <tr>\n",
       "      <th>0</th>\n",
       "      <td>Whitefield</td>\n",
       "      <td>17.3</td>\n",
       "    </tr>\n",
       "    <tr>\n",
       "      <th>1</th>\n",
       "      <td>Sarjapur  Road</td>\n",
       "      <td>17.2</td>\n",
       "    </tr>\n",
       "    <tr>\n",
       "      <th>2</th>\n",
       "      <td>Electronic City</td>\n",
       "      <td>18.1</td>\n",
       "    </tr>\n",
       "    <tr>\n",
       "      <th>3</th>\n",
       "      <td>Kanakpura Road</td>\n",
       "      <td>26.5</td>\n",
       "    </tr>\n",
       "    <tr>\n",
       "      <th>4</th>\n",
       "      <td>Thanisandra</td>\n",
       "      <td>11.5</td>\n",
       "    </tr>\n",
       "    <tr>\n",
       "      <th>...</th>\n",
       "      <td>...</td>\n",
       "      <td>...</td>\n",
       "    </tr>\n",
       "    <tr>\n",
       "      <th>495</th>\n",
       "      <td>Kirloskar Layout</td>\n",
       "      <td>19.0</td>\n",
       "    </tr>\n",
       "    <tr>\n",
       "      <th>496</th>\n",
       "      <td>Sai Gardens</td>\n",
       "      <td>24.7</td>\n",
       "    </tr>\n",
       "    <tr>\n",
       "      <th>497</th>\n",
       "      <td>Raja Rajeshwari Nagar 5th Stage</td>\n",
       "      <td>16.4</td>\n",
       "    </tr>\n",
       "    <tr>\n",
       "      <th>498</th>\n",
       "      <td>4th Phase JP Nagar</td>\n",
       "      <td>10.5</td>\n",
       "    </tr>\n",
       "    <tr>\n",
       "      <th>499</th>\n",
       "      <td>BSM Extension</td>\n",
       "      <td>36.2</td>\n",
       "    </tr>\n",
       "  </tbody>\n",
       "</table>\n",
       "<p>500 rows × 2 columns</p>\n",
       "</div>"
      ],
      "text/plain": [
       "                            location  dist_from_city\n",
       "0                         Whitefield            17.3\n",
       "1                     Sarjapur  Road            17.2\n",
       "2                    Electronic City            18.1\n",
       "3                     Kanakpura Road            26.5\n",
       "4                        Thanisandra            11.5\n",
       "..                               ...             ...\n",
       "495                 Kirloskar Layout            19.0\n",
       "496                      Sai Gardens            24.7\n",
       "497  Raja Rajeshwari Nagar 5th Stage            16.4\n",
       "498               4th Phase JP Nagar            10.5\n",
       "499                    BSM Extension            36.2\n",
       "\n",
       "[500 rows x 2 columns]"
      ]
     },
     "execution_count": 141,
     "metadata": {},
     "output_type": "execute_result"
    }
   ],
   "source": [
    "#3rd table \n",
    "city_dist = pd.read_csv('dist_from_city_centre.csv')\n",
    "city_dist"
   ]
  },
  {
   "cell_type": "code",
   "execution_count": 142,
   "id": "9a5329b4",
   "metadata": {
    "scrolled": true
   },
   "outputs": [
    {
     "name": "stdout",
     "output_type": "stream",
     "text": [
      "<class 'pandas.core.frame.DataFrame'>\n",
      "RangeIndex: 500 entries, 0 to 499\n",
      "Data columns (total 2 columns):\n",
      " #   Column          Non-Null Count  Dtype  \n",
      "---  ------          --------------  -----  \n",
      " 0   location        500 non-null    object \n",
      " 1   dist_from_city  500 non-null    float64\n",
      "dtypes: float64(1), object(1)\n",
      "memory usage: 7.9+ KB\n"
     ]
    }
   ],
   "source": [
    "city_dist.info()"
   ]
  },
  {
   "cell_type": "code",
   "execution_count": 143,
   "id": "74c940c9",
   "metadata": {
    "scrolled": true
   },
   "outputs": [
    {
     "data": {
      "text/html": [
       "<div>\n",
       "<style scoped>\n",
       "    .dataframe tbody tr th:only-of-type {\n",
       "        vertical-align: middle;\n",
       "    }\n",
       "\n",
       "    .dataframe tbody tr th {\n",
       "        vertical-align: top;\n",
       "    }\n",
       "\n",
       "    .dataframe thead th {\n",
       "        text-align: right;\n",
       "    }\n",
       "</style>\n",
       "<table border=\"1\" class=\"dataframe\">\n",
       "  <thead>\n",
       "    <tr style=\"text-align: right;\">\n",
       "      <th></th>\n",
       "      <th>ID</th>\n",
       "      <th>area_type</th>\n",
       "      <th>availability</th>\n",
       "      <th>location</th>\n",
       "      <th>size</th>\n",
       "      <th>society</th>\n",
       "      <th>total_sqft</th>\n",
       "      <th>bath</th>\n",
       "      <th>balcony</th>\n",
       "    </tr>\n",
       "  </thead>\n",
       "  <tbody>\n",
       "    <tr>\n",
       "      <th>0</th>\n",
       "      <td>0</td>\n",
       "      <td>Super built-up  Area</td>\n",
       "      <td>Ready To Move</td>\n",
       "      <td>Chamrajpet</td>\n",
       "      <td>2 BHK</td>\n",
       "      <td>NaN</td>\n",
       "      <td>650</td>\n",
       "      <td>1.0</td>\n",
       "      <td>1.0</td>\n",
       "    </tr>\n",
       "    <tr>\n",
       "      <th>1</th>\n",
       "      <td>1</td>\n",
       "      <td>Super built-up  Area</td>\n",
       "      <td>Ready To Move</td>\n",
       "      <td>7th Phase JP Nagar</td>\n",
       "      <td>3 BHK</td>\n",
       "      <td>SrncyRe</td>\n",
       "      <td>1370</td>\n",
       "      <td>2.0</td>\n",
       "      <td>1.0</td>\n",
       "    </tr>\n",
       "    <tr>\n",
       "      <th>2</th>\n",
       "      <td>2</td>\n",
       "      <td>Super built-up  Area</td>\n",
       "      <td>Ready To Move</td>\n",
       "      <td>Whitefield</td>\n",
       "      <td>3 BHK</td>\n",
       "      <td>AjhalNa</td>\n",
       "      <td>1725</td>\n",
       "      <td>3.0</td>\n",
       "      <td>2.0</td>\n",
       "    </tr>\n",
       "    <tr>\n",
       "      <th>3</th>\n",
       "      <td>3</td>\n",
       "      <td>Built-up  Area</td>\n",
       "      <td>Ready To Move</td>\n",
       "      <td>Jalahalli</td>\n",
       "      <td>2 BHK</td>\n",
       "      <td>NaN</td>\n",
       "      <td>1000</td>\n",
       "      <td>2.0</td>\n",
       "      <td>0.0</td>\n",
       "    </tr>\n",
       "    <tr>\n",
       "      <th>4</th>\n",
       "      <td>4</td>\n",
       "      <td>Plot  Area</td>\n",
       "      <td>Ready To Move</td>\n",
       "      <td>TC Palaya</td>\n",
       "      <td>1 Bedroom</td>\n",
       "      <td>NaN</td>\n",
       "      <td>1350</td>\n",
       "      <td>1.0</td>\n",
       "      <td>0.0</td>\n",
       "    </tr>\n",
       "    <tr>\n",
       "      <th>5</th>\n",
       "      <td>5</td>\n",
       "      <td>Plot  Area</td>\n",
       "      <td>Ready To Move</td>\n",
       "      <td>7th Phase JP Nagar</td>\n",
       "      <td>4 Bedroom</td>\n",
       "      <td>NaN</td>\n",
       "      <td>3200</td>\n",
       "      <td>4.0</td>\n",
       "      <td>2.0</td>\n",
       "    </tr>\n",
       "    <tr>\n",
       "      <th>6</th>\n",
       "      <td>6</td>\n",
       "      <td>Super built-up  Area</td>\n",
       "      <td>Ready To Move</td>\n",
       "      <td>Bellandur</td>\n",
       "      <td>3 BHK</td>\n",
       "      <td>NaN</td>\n",
       "      <td>1717</td>\n",
       "      <td>3.0</td>\n",
       "      <td>2.0</td>\n",
       "    </tr>\n",
       "    <tr>\n",
       "      <th>7</th>\n",
       "      <td>7</td>\n",
       "      <td>Super built-up  Area</td>\n",
       "      <td>21-Dec</td>\n",
       "      <td>Kanakpura Road</td>\n",
       "      <td>2 BHK</td>\n",
       "      <td>PrarePa</td>\n",
       "      <td>700</td>\n",
       "      <td>2.0</td>\n",
       "      <td>1.0</td>\n",
       "    </tr>\n",
       "    <tr>\n",
       "      <th>8</th>\n",
       "      <td>8</td>\n",
       "      <td>Super built-up  Area</td>\n",
       "      <td>Ready To Move</td>\n",
       "      <td>Shanthi Pura</td>\n",
       "      <td>2 BHK</td>\n",
       "      <td>ShtonDw</td>\n",
       "      <td>800</td>\n",
       "      <td>2.0</td>\n",
       "      <td>1.0</td>\n",
       "    </tr>\n",
       "    <tr>\n",
       "      <th>9</th>\n",
       "      <td>9</td>\n",
       "      <td>Super built-up  Area</td>\n",
       "      <td>Ready To Move</td>\n",
       "      <td>Rajaji Nagar</td>\n",
       "      <td>3 BHK</td>\n",
       "      <td>PhestOn</td>\n",
       "      <td>2367</td>\n",
       "      <td>4.0</td>\n",
       "      <td>3.0</td>\n",
       "    </tr>\n",
       "  </tbody>\n",
       "</table>\n",
       "</div>"
      ],
      "text/plain": [
       "   ID             area_type   availability            location       size  \\\n",
       "0   0  Super built-up  Area  Ready To Move          Chamrajpet      2 BHK   \n",
       "1   1  Super built-up  Area  Ready To Move  7th Phase JP Nagar      3 BHK   \n",
       "2   2  Super built-up  Area  Ready To Move          Whitefield      3 BHK   \n",
       "3   3        Built-up  Area  Ready To Move           Jalahalli      2 BHK   \n",
       "4   4            Plot  Area  Ready To Move           TC Palaya  1 Bedroom   \n",
       "5   5            Plot  Area  Ready To Move  7th Phase JP Nagar  4 Bedroom   \n",
       "6   6  Super built-up  Area  Ready To Move           Bellandur      3 BHK   \n",
       "7   7  Super built-up  Area         21-Dec      Kanakpura Road      2 BHK   \n",
       "8   8  Super built-up  Area  Ready To Move        Shanthi Pura      2 BHK   \n",
       "9   9  Super built-up  Area  Ready To Move        Rajaji Nagar      3 BHK   \n",
       "\n",
       "   society total_sqft  bath  balcony  \n",
       "0      NaN        650   1.0      1.0  \n",
       "1  SrncyRe       1370   2.0      1.0  \n",
       "2  AjhalNa       1725   3.0      2.0  \n",
       "3      NaN       1000   2.0      0.0  \n",
       "4      NaN       1350   1.0      0.0  \n",
       "5      NaN       3200   4.0      2.0  \n",
       "6      NaN       1717   3.0      2.0  \n",
       "7  PrarePa        700   2.0      1.0  \n",
       "8  ShtonDw        800   2.0      1.0  \n",
       "9  PhestOn       2367   4.0      3.0  "
      ]
     },
     "execution_count": 143,
     "metadata": {},
     "output_type": "execute_result"
    }
   ],
   "source": [
    "test_data=pd.read_csv('test.csv')\n",
    "test_data.head(10)"
   ]
  },
  {
   "cell_type": "code",
   "execution_count": 144,
   "id": "79ac051d",
   "metadata": {},
   "outputs": [],
   "source": [
    "test_data = pd.merge(test_data, avg_rent, on='location', how='left')\n",
    "test_data = pd.merge(test_data, city_dist, on='location', how='left')"
   ]
  },
  {
   "cell_type": "code",
   "execution_count": 145,
   "id": "314fcbfb",
   "metadata": {
    "scrolled": true
   },
   "outputs": [
    {
     "data": {
      "text/html": [
       "<div>\n",
       "<style scoped>\n",
       "    .dataframe tbody tr th:only-of-type {\n",
       "        vertical-align: middle;\n",
       "    }\n",
       "\n",
       "    .dataframe tbody tr th {\n",
       "        vertical-align: top;\n",
       "    }\n",
       "\n",
       "    .dataframe thead th {\n",
       "        text-align: right;\n",
       "    }\n",
       "</style>\n",
       "<table border=\"1\" class=\"dataframe\">\n",
       "  <thead>\n",
       "    <tr style=\"text-align: right;\">\n",
       "      <th></th>\n",
       "      <th>ID</th>\n",
       "      <th>area_type</th>\n",
       "      <th>availability</th>\n",
       "      <th>location</th>\n",
       "      <th>size</th>\n",
       "      <th>society</th>\n",
       "      <th>total_sqft</th>\n",
       "      <th>bath</th>\n",
       "      <th>balcony</th>\n",
       "      <th>price</th>\n",
       "      <th>dist_from_city</th>\n",
       "    </tr>\n",
       "  </thead>\n",
       "  <tbody>\n",
       "    <tr>\n",
       "      <th>0</th>\n",
       "      <td>0</td>\n",
       "      <td>Super built-up  Area</td>\n",
       "      <td>19-Dec</td>\n",
       "      <td>Electronic City Phase II</td>\n",
       "      <td>2 BHK</td>\n",
       "      <td>Coomee</td>\n",
       "      <td>1056</td>\n",
       "      <td>2.0</td>\n",
       "      <td>1.0</td>\n",
       "      <td>39.07</td>\n",
       "      <td>19.3</td>\n",
       "    </tr>\n",
       "    <tr>\n",
       "      <th>1</th>\n",
       "      <td>1</td>\n",
       "      <td>Plot  Area</td>\n",
       "      <td>Ready To Move</td>\n",
       "      <td>Chikka Tirupathi</td>\n",
       "      <td>4 Bedroom</td>\n",
       "      <td>Theanmp</td>\n",
       "      <td>2600</td>\n",
       "      <td>5.0</td>\n",
       "      <td>3.0</td>\n",
       "      <td>120.00</td>\n",
       "      <td>34.6</td>\n",
       "    </tr>\n",
       "    <tr>\n",
       "      <th>2</th>\n",
       "      <td>2</td>\n",
       "      <td>Built-up  Area</td>\n",
       "      <td>Ready To Move</td>\n",
       "      <td>Uttarahalli</td>\n",
       "      <td>3 BHK</td>\n",
       "      <td>NaN</td>\n",
       "      <td>1440</td>\n",
       "      <td>2.0</td>\n",
       "      <td>3.0</td>\n",
       "      <td>62.00</td>\n",
       "      <td>12.9</td>\n",
       "    </tr>\n",
       "    <tr>\n",
       "      <th>3</th>\n",
       "      <td>3</td>\n",
       "      <td>Super built-up  Area</td>\n",
       "      <td>Ready To Move</td>\n",
       "      <td>Lingadheeranahalli</td>\n",
       "      <td>3 BHK</td>\n",
       "      <td>Soiewre</td>\n",
       "      <td>1521</td>\n",
       "      <td>3.0</td>\n",
       "      <td>1.0</td>\n",
       "      <td>95.00</td>\n",
       "      <td>21.4</td>\n",
       "    </tr>\n",
       "    <tr>\n",
       "      <th>4</th>\n",
       "      <td>4</td>\n",
       "      <td>Super built-up  Area</td>\n",
       "      <td>Ready To Move</td>\n",
       "      <td>Kothanur</td>\n",
       "      <td>2 BHK</td>\n",
       "      <td>NaN</td>\n",
       "      <td>1200</td>\n",
       "      <td>2.0</td>\n",
       "      <td>1.0</td>\n",
       "      <td>51.00</td>\n",
       "      <td>11.8</td>\n",
       "    </tr>\n",
       "    <tr>\n",
       "      <th>...</th>\n",
       "      <td>...</td>\n",
       "      <td>...</td>\n",
       "      <td>...</td>\n",
       "      <td>...</td>\n",
       "      <td>...</td>\n",
       "      <td>...</td>\n",
       "      <td>...</td>\n",
       "      <td>...</td>\n",
       "      <td>...</td>\n",
       "      <td>...</td>\n",
       "      <td>...</td>\n",
       "    </tr>\n",
       "    <tr>\n",
       "      <th>10651</th>\n",
       "      <td>10651</td>\n",
       "      <td>Plot  Area</td>\n",
       "      <td>Ready To Move</td>\n",
       "      <td>Parappana Agrahara</td>\n",
       "      <td>1 Bedroom</td>\n",
       "      <td>NaN</td>\n",
       "      <td>1200</td>\n",
       "      <td>1.0</td>\n",
       "      <td>0.0</td>\n",
       "      <td>45.00</td>\n",
       "      <td>14.6</td>\n",
       "    </tr>\n",
       "    <tr>\n",
       "      <th>10652</th>\n",
       "      <td>10652</td>\n",
       "      <td>Super built-up  Area</td>\n",
       "      <td>Ready To Move</td>\n",
       "      <td>Bhoganhalli</td>\n",
       "      <td>2 BHK</td>\n",
       "      <td>Srhemay</td>\n",
       "      <td>1260</td>\n",
       "      <td>2.0</td>\n",
       "      <td>1.0</td>\n",
       "      <td>69.90</td>\n",
       "      <td>15.3</td>\n",
       "    </tr>\n",
       "    <tr>\n",
       "      <th>10653</th>\n",
       "      <td>10653</td>\n",
       "      <td>Super built-up  Area</td>\n",
       "      <td>Ready To Move</td>\n",
       "      <td>Doddanakundi Industrial Area 2</td>\n",
       "      <td>2 BHK</td>\n",
       "      <td>NaN</td>\n",
       "      <td>1092</td>\n",
       "      <td>2.0</td>\n",
       "      <td>1.0</td>\n",
       "      <td>49.00</td>\n",
       "      <td>13.4</td>\n",
       "    </tr>\n",
       "    <tr>\n",
       "      <th>10654</th>\n",
       "      <td>10654</td>\n",
       "      <td>Super built-up  Area</td>\n",
       "      <td>Ready To Move</td>\n",
       "      <td>Kachanayakanahalli</td>\n",
       "      <td>2 BHK</td>\n",
       "      <td>ICoolon</td>\n",
       "      <td>827</td>\n",
       "      <td>2.0</td>\n",
       "      <td>0.0</td>\n",
       "      <td>34.00</td>\n",
       "      <td>NaN</td>\n",
       "    </tr>\n",
       "    <tr>\n",
       "      <th>10655</th>\n",
       "      <td>10655</td>\n",
       "      <td>Super built-up  Area</td>\n",
       "      <td>Ready To Move</td>\n",
       "      <td>Horamavu Banaswadi</td>\n",
       "      <td>2 BHK</td>\n",
       "      <td>NaN</td>\n",
       "      <td>1357</td>\n",
       "      <td>2.0</td>\n",
       "      <td>2.0</td>\n",
       "      <td>54.00</td>\n",
       "      <td>9.9</td>\n",
       "    </tr>\n",
       "  </tbody>\n",
       "</table>\n",
       "<p>10656 rows × 11 columns</p>\n",
       "</div>"
      ],
      "text/plain": [
       "          ID             area_type   availability  \\\n",
       "0          0  Super built-up  Area         19-Dec   \n",
       "1          1            Plot  Area  Ready To Move   \n",
       "2          2        Built-up  Area  Ready To Move   \n",
       "3          3  Super built-up  Area  Ready To Move   \n",
       "4          4  Super built-up  Area  Ready To Move   \n",
       "...      ...                   ...            ...   \n",
       "10651  10651            Plot  Area  Ready To Move   \n",
       "10652  10652  Super built-up  Area  Ready To Move   \n",
       "10653  10653  Super built-up  Area  Ready To Move   \n",
       "10654  10654  Super built-up  Area  Ready To Move   \n",
       "10655  10655  Super built-up  Area  Ready To Move   \n",
       "\n",
       "                             location       size  society total_sqft  bath  \\\n",
       "0            Electronic City Phase II      2 BHK  Coomee        1056   2.0   \n",
       "1                    Chikka Tirupathi  4 Bedroom  Theanmp       2600   5.0   \n",
       "2                         Uttarahalli      3 BHK      NaN       1440   2.0   \n",
       "3                  Lingadheeranahalli      3 BHK  Soiewre       1521   3.0   \n",
       "4                            Kothanur      2 BHK      NaN       1200   2.0   \n",
       "...                               ...        ...      ...        ...   ...   \n",
       "10651              Parappana Agrahara  1 Bedroom      NaN       1200   1.0   \n",
       "10652                     Bhoganhalli      2 BHK  Srhemay       1260   2.0   \n",
       "10653  Doddanakundi Industrial Area 2      2 BHK      NaN       1092   2.0   \n",
       "10654              Kachanayakanahalli      2 BHK  ICoolon        827   2.0   \n",
       "10655              Horamavu Banaswadi      2 BHK      NaN       1357   2.0   \n",
       "\n",
       "       balcony   price  dist_from_city  \n",
       "0          1.0   39.07            19.3  \n",
       "1          3.0  120.00            34.6  \n",
       "2          3.0   62.00            12.9  \n",
       "3          1.0   95.00            21.4  \n",
       "4          1.0   51.00            11.8  \n",
       "...        ...     ...             ...  \n",
       "10651      0.0   45.00            14.6  \n",
       "10652      1.0   69.90            15.3  \n",
       "10653      1.0   49.00            13.4  \n",
       "10654      0.0   34.00             NaN  \n",
       "10655      2.0   54.00             9.9  \n",
       "\n",
       "[10656 rows x 11 columns]"
      ]
     },
     "execution_count": 145,
     "metadata": {},
     "output_type": "execute_result"
    }
   ],
   "source": [
    "sample_data = pd.merge(housing_data,city_dist,how='left',on='location')\n",
    "sample_data"
   ]
  },
  {
   "cell_type": "code",
   "execution_count": 146,
   "id": "a24fcebb",
   "metadata": {
    "scrolled": true
   },
   "outputs": [
    {
     "name": "stdout",
     "output_type": "stream",
     "text": [
      "<class 'pandas.core.frame.DataFrame'>\n",
      "Int64Index: 10656 entries, 0 to 10655\n",
      "Data columns (total 11 columns):\n",
      " #   Column          Non-Null Count  Dtype  \n",
      "---  ------          --------------  -----  \n",
      " 0   ID              10656 non-null  int64  \n",
      " 1   area_type       10656 non-null  object \n",
      " 2   availability    10656 non-null  object \n",
      " 3   location        10655 non-null  object \n",
      " 4   size            10642 non-null  object \n",
      " 5   society         6228 non-null   object \n",
      " 6   total_sqft      10656 non-null  object \n",
      " 7   bath            10591 non-null  float64\n",
      " 8   balcony         10152 non-null  float64\n",
      " 9   price           10656 non-null  float64\n",
      " 10  dist_from_city  9630 non-null   float64\n",
      "dtypes: float64(4), int64(1), object(6)\n",
      "memory usage: 999.0+ KB\n"
     ]
    }
   ],
   "source": [
    "sample_data.info()"
   ]
  },
  {
   "cell_type": "code",
   "execution_count": 147,
   "id": "f9522ff7",
   "metadata": {},
   "outputs": [],
   "source": [
    "sample_data.drop(columns='ID',inplace=True)"
   ]
  },
  {
   "cell_type": "code",
   "execution_count": 148,
   "id": "d01e33b3",
   "metadata": {
    "scrolled": true
   },
   "outputs": [
    {
     "name": "stdout",
     "output_type": "stream",
     "text": [
      "<class 'pandas.core.frame.DataFrame'>\n",
      "Int64Index: 10656 entries, 0 to 10655\n",
      "Data columns (total 10 columns):\n",
      " #   Column          Non-Null Count  Dtype  \n",
      "---  ------          --------------  -----  \n",
      " 0   area_type       10656 non-null  object \n",
      " 1   availability    10656 non-null  object \n",
      " 2   location        10655 non-null  object \n",
      " 3   size            10642 non-null  object \n",
      " 4   society         6228 non-null   object \n",
      " 5   total_sqft      10656 non-null  object \n",
      " 6   bath            10591 non-null  float64\n",
      " 7   balcony         10152 non-null  float64\n",
      " 8   price           10656 non-null  float64\n",
      " 9   dist_from_city  9630 non-null   float64\n",
      "dtypes: float64(4), object(6)\n",
      "memory usage: 915.8+ KB\n"
     ]
    }
   ],
   "source": [
    "sample_data.info()"
   ]
  },
  {
   "cell_type": "markdown",
   "id": "08135c87",
   "metadata": {},
   "source": [
    "There are 11 variables , where 5 numierical and 6 categorical type"
   ]
  },
  {
   "cell_type": "code",
   "execution_count": 149,
   "id": "37df305f",
   "metadata": {
    "scrolled": true
   },
   "outputs": [
    {
     "data": {
      "text/html": [
       "<div>\n",
       "<style scoped>\n",
       "    .dataframe tbody tr th:only-of-type {\n",
       "        vertical-align: middle;\n",
       "    }\n",
       "\n",
       "    .dataframe tbody tr th {\n",
       "        vertical-align: top;\n",
       "    }\n",
       "\n",
       "    .dataframe thead th {\n",
       "        text-align: right;\n",
       "    }\n",
       "</style>\n",
       "<table border=\"1\" class=\"dataframe\">\n",
       "  <thead>\n",
       "    <tr style=\"text-align: right;\">\n",
       "      <th></th>\n",
       "      <th>bath</th>\n",
       "      <th>balcony</th>\n",
       "      <th>price</th>\n",
       "      <th>dist_from_city</th>\n",
       "    </tr>\n",
       "  </thead>\n",
       "  <tbody>\n",
       "    <tr>\n",
       "      <th>count</th>\n",
       "      <td>10591.000000</td>\n",
       "      <td>10152.000000</td>\n",
       "      <td>10656.000000</td>\n",
       "      <td>9630.000000</td>\n",
       "    </tr>\n",
       "    <tr>\n",
       "      <th>mean</th>\n",
       "      <td>2.690586</td>\n",
       "      <td>1.581757</td>\n",
       "      <td>112.214256</td>\n",
       "      <td>15.191080</td>\n",
       "    </tr>\n",
       "    <tr>\n",
       "      <th>std</th>\n",
       "      <td>1.352403</td>\n",
       "      <td>0.821357</td>\n",
       "      <td>142.231967</td>\n",
       "      <td>6.242696</td>\n",
       "    </tr>\n",
       "    <tr>\n",
       "      <th>min</th>\n",
       "      <td>1.000000</td>\n",
       "      <td>0.000000</td>\n",
       "      <td>8.000000</td>\n",
       "      <td>1.900000</td>\n",
       "    </tr>\n",
       "    <tr>\n",
       "      <th>25%</th>\n",
       "      <td>2.000000</td>\n",
       "      <td>1.000000</td>\n",
       "      <td>50.000000</td>\n",
       "      <td>11.100000</td>\n",
       "    </tr>\n",
       "    <tr>\n",
       "      <th>50%</th>\n",
       "      <td>2.000000</td>\n",
       "      <td>2.000000</td>\n",
       "      <td>72.000000</td>\n",
       "      <td>14.400000</td>\n",
       "    </tr>\n",
       "    <tr>\n",
       "      <th>75%</th>\n",
       "      <td>3.000000</td>\n",
       "      <td>2.000000</td>\n",
       "      <td>120.000000</td>\n",
       "      <td>17.400000</td>\n",
       "    </tr>\n",
       "    <tr>\n",
       "      <th>max</th>\n",
       "      <td>40.000000</td>\n",
       "      <td>3.000000</td>\n",
       "      <td>2700.000000</td>\n",
       "      <td>47.700000</td>\n",
       "    </tr>\n",
       "  </tbody>\n",
       "</table>\n",
       "</div>"
      ],
      "text/plain": [
       "               bath       balcony         price  dist_from_city\n",
       "count  10591.000000  10152.000000  10656.000000     9630.000000\n",
       "mean       2.690586      1.581757    112.214256       15.191080\n",
       "std        1.352403      0.821357    142.231967        6.242696\n",
       "min        1.000000      0.000000      8.000000        1.900000\n",
       "25%        2.000000      1.000000     50.000000       11.100000\n",
       "50%        2.000000      2.000000     72.000000       14.400000\n",
       "75%        3.000000      2.000000    120.000000       17.400000\n",
       "max       40.000000      3.000000   2700.000000       47.700000"
      ]
     },
     "execution_count": 149,
     "metadata": {},
     "output_type": "execute_result"
    }
   ],
   "source": [
    "# description of the numerical data\n",
    "sample_data.describe()"
   ]
  },
  {
   "cell_type": "code",
   "execution_count": 16,
   "id": "ac353588",
   "metadata": {
    "scrolled": false
   },
   "outputs": [
    {
     "data": {
      "text/html": [
       "<div>\n",
       "<style scoped>\n",
       "    .dataframe tbody tr th:only-of-type {\n",
       "        vertical-align: middle;\n",
       "    }\n",
       "\n",
       "    .dataframe tbody tr th {\n",
       "        vertical-align: top;\n",
       "    }\n",
       "\n",
       "    .dataframe thead th {\n",
       "        text-align: right;\n",
       "    }\n",
       "</style>\n",
       "<table border=\"1\" class=\"dataframe\">\n",
       "  <thead>\n",
       "    <tr style=\"text-align: right;\">\n",
       "      <th></th>\n",
       "      <th>area_type</th>\n",
       "      <th>availability</th>\n",
       "      <th>location</th>\n",
       "      <th>size</th>\n",
       "      <th>society</th>\n",
       "      <th>total_sqft</th>\n",
       "    </tr>\n",
       "  </thead>\n",
       "  <tbody>\n",
       "    <tr>\n",
       "      <th>count</th>\n",
       "      <td>10656</td>\n",
       "      <td>10656</td>\n",
       "      <td>10655</td>\n",
       "      <td>10642</td>\n",
       "      <td>6228</td>\n",
       "      <td>10656</td>\n",
       "    </tr>\n",
       "    <tr>\n",
       "      <th>unique</th>\n",
       "      <td>4</td>\n",
       "      <td>79</td>\n",
       "      <td>1197</td>\n",
       "      <td>30</td>\n",
       "      <td>2364</td>\n",
       "      <td>1923</td>\n",
       "    </tr>\n",
       "    <tr>\n",
       "      <th>top</th>\n",
       "      <td>Super built-up  Area</td>\n",
       "      <td>Ready To Move</td>\n",
       "      <td>Whitefield</td>\n",
       "      <td>2 BHK</td>\n",
       "      <td>GrrvaGr</td>\n",
       "      <td>1200</td>\n",
       "    </tr>\n",
       "    <tr>\n",
       "      <th>freq</th>\n",
       "      <td>7009</td>\n",
       "      <td>8468</td>\n",
       "      <td>433</td>\n",
       "      <td>4146</td>\n",
       "      <td>70</td>\n",
       "      <td>667</td>\n",
       "    </tr>\n",
       "  </tbody>\n",
       "</table>\n",
       "</div>"
      ],
      "text/plain": [
       "                   area_type   availability    location   size  society  \\\n",
       "count                  10656          10656       10655  10642     6228   \n",
       "unique                     4             79        1197     30     2364   \n",
       "top     Super built-up  Area  Ready To Move  Whitefield  2 BHK  GrrvaGr   \n",
       "freq                    7009           8468         433   4146       70   \n",
       "\n",
       "       total_sqft  \n",
       "count       10656  \n",
       "unique       1923  \n",
       "top          1200  \n",
       "freq          667  "
      ]
     },
     "execution_count": 16,
     "metadata": {},
     "output_type": "execute_result"
    }
   ],
   "source": [
    "sample_data.describe(include=object)"
   ]
  },
  {
   "cell_type": "code",
   "execution_count": 150,
   "id": "81a0b2ff",
   "metadata": {
    "scrolled": true
   },
   "outputs": [
    {
     "data": {
      "text/plain": [
       "area_type            0\n",
       "availability         0\n",
       "location             1\n",
       "size                14\n",
       "society           4428\n",
       "total_sqft           0\n",
       "bath                65\n",
       "balcony            504\n",
       "price                0\n",
       "dist_from_city    1026\n",
       "dtype: int64"
      ]
     },
     "execution_count": 150,
     "metadata": {},
     "output_type": "execute_result"
    }
   ],
   "source": [
    "missing_values = sample_data.isnull().sum()\n",
    "missing_values"
   ]
  },
  {
   "cell_type": "code",
   "execution_count": 151,
   "id": "502b4de1",
   "metadata": {},
   "outputs": [
    {
     "data": {
      "text/plain": [
       "<function matplotlib.pyplot.show(close=None, block=None)>"
      ]
     },
     "execution_count": 151,
     "metadata": {},
     "output_type": "execute_result"
    },
    {
     "data": {
      "image/png": "[encoded data removed]",
      "text/plain": [
       "<Figure size 640x480 with 1 Axes>"
      ]
     },
     "metadata": {},
     "output_type": "display_data"
    }
   ],
   "source": [
    "#plotting the missing values\n",
    "sns.heatmap(sample_data.isnull(),cbar=False)\n",
    "plt.show"
   ]
  },
  {
   "cell_type": "code",
   "execution_count": 152,
   "id": "269bd36e",
   "metadata": {
    "scrolled": true
   },
   "outputs": [
    {
     "name": "stdout",
     "output_type": "stream",
     "text": [
      "<class 'pandas.core.frame.DataFrame'>\n",
      "Int64Index: 10656 entries, 0 to 10655\n",
      "Data columns (total 10 columns):\n",
      " #   Column          Non-Null Count  Dtype  \n",
      "---  ------          --------------  -----  \n",
      " 0   area_type       10656 non-null  object \n",
      " 1   availability    10656 non-null  object \n",
      " 2   location        10655 non-null  object \n",
      " 3   size            10642 non-null  object \n",
      " 4   society         6228 non-null   object \n",
      " 5   total_sqft      10656 non-null  object \n",
      " 6   bath            10591 non-null  float64\n",
      " 7   balcony         10152 non-null  float64\n",
      " 8   price           10656 non-null  float64\n",
      " 9   dist_from_city  9630 non-null   float64\n",
      "dtypes: float64(4), object(6)\n",
      "memory usage: 915.8+ KB\n"
     ]
    }
   ],
   "source": [
    "sample_data.info()"
   ]
  },
  {
   "cell_type": "code",
   "execution_count": 153,
   "id": "a66b6d8f",
   "metadata": {
    "scrolled": true
   },
   "outputs": [
    {
     "data": {
      "text/plain": [
       "1200            667\n",
       "1100            178\n",
       "2400            163\n",
       "1500            154\n",
       "600             150\n",
       "               ... \n",
       "1                 1\n",
       "2372              1\n",
       "167Sq. Meter      1\n",
       "1076 - 1199       1\n",
       "1426              1\n",
       "Name: total_sqft, Length: 1923, dtype: int64"
      ]
     },
     "execution_count": 153,
     "metadata": {},
     "output_type": "execute_result"
    }
   ],
   "source": [
    "sample_data.total_sqft.value_counts()"
   ]
  },
  {
   "cell_type": "code",
   "execution_count": 154,
   "id": "9c62623f",
   "metadata": {},
   "outputs": [],
   "source": [
    "import re\n",
    "def preprocess_value(value):\n",
    "    # Remove non-numeric characters and convert to float\n",
    "    cleaned_value = re.sub(r'[^\\d.-]', '', value)\n",
    "    # Handle trailing dots\n",
    "    if cleaned_value.endswith('.'):\n",
    "        cleaned_value = cleaned_value[:-1]  # Remove the last character (dot)\n",
    "    # Handle ranges\n",
    "    if '-' in cleaned_value:\n",
    "        # Split the value by hyphen and take the average\n",
    "        start, end = map(float, cleaned_value.split('-'))\n",
    "        return (start + end) / 2\n",
    "    return float(cleaned_value)"
   ]
  },
  {
   "cell_type": "code",
   "execution_count": 155,
   "id": "1c025525",
   "metadata": {
    "scrolled": false
   },
   "outputs": [],
   "source": [
    "sample_data['total_sqft']=sample_data.total_sqft.apply(preprocess_value)"
   ]
  },
  {
   "cell_type": "code",
   "execution_count": 156,
   "id": "faaf4a11",
   "metadata": {
    "scrolled": false
   },
   "outputs": [
    {
     "name": "stdout",
     "output_type": "stream",
     "text": [
      "<class 'pandas.core.frame.DataFrame'>\n",
      "Int64Index: 10656 entries, 0 to 10655\n",
      "Data columns (total 10 columns):\n",
      " #   Column          Non-Null Count  Dtype  \n",
      "---  ------          --------------  -----  \n",
      " 0   area_type       10656 non-null  object \n",
      " 1   availability    10656 non-null  object \n",
      " 2   location        10655 non-null  object \n",
      " 3   size            10642 non-null  object \n",
      " 4   society         6228 non-null   object \n",
      " 5   total_sqft      10656 non-null  float64\n",
      " 6   bath            10591 non-null  float64\n",
      " 7   balcony         10152 non-null  float64\n",
      " 8   price           10656 non-null  float64\n",
      " 9   dist_from_city  9630 non-null   float64\n",
      "dtypes: float64(5), object(5)\n",
      "memory usage: 915.8+ KB\n"
     ]
    }
   ],
   "source": [
    "sample_data.info()"
   ]
  },
  {
   "cell_type": "code",
   "execution_count": 157,
   "id": "b7bb59f2",
   "metadata": {
    "scrolled": false
   },
   "outputs": [
    {
     "data": {
      "text/plain": [
       "1200.0    667\n",
       "1100.0    180\n",
       "2400.0    163\n",
       "1500.0    156\n",
       "600.0     150\n",
       "         ... \n",
       "589.0       1\n",
       "1922.0      1\n",
       "971.5       1\n",
       "2370.0      1\n",
       "1426.0      1\n",
       "Name: total_sqft, Length: 1853, dtype: int64"
      ]
     },
     "execution_count": 157,
     "metadata": {},
     "output_type": "execute_result"
    }
   ],
   "source": [
    "sample_data['total_sqft'].value_counts()"
   ]
  },
  {
   "cell_type": "code",
   "execution_count": 158,
   "id": "5abbd17a",
   "metadata": {
    "scrolled": true
   },
   "outputs": [
    {
     "data": {
      "text/plain": [
       "Ready To Move    8468\n",
       "18-Dec            237\n",
       "18-May            233\n",
       "18-Apr            204\n",
       "18-Aug            162\n",
       "                 ... \n",
       "16-Oct              1\n",
       "15-Aug              1\n",
       "17-Jan              1\n",
       "16-Nov              1\n",
       "20-Apr              1\n",
       "Name: availability, Length: 79, dtype: int64"
      ]
     },
     "execution_count": 158,
     "metadata": {},
     "output_type": "execute_result"
    }
   ],
   "source": [
    "sample_data.availability.value_counts()"
   ]
  },
  {
   "cell_type": "code",
   "execution_count": 159,
   "id": "55a74cea",
   "metadata": {},
   "outputs": [],
   "source": [
    "def extract_text_from_string(value):\n",
    "  \n",
    "    if isinstance(value, str):                              # Define regex pattern to match numeric values\n",
    "        numeric_pattern = r'\\d+'                           # Find all numeric values in the text\n",
    "        numeric_values = re.findall(numeric_pattern, value) # Convert the numeric values to integers and return as a list\n",
    "        numeric_value = ''.join(numeric_values)\n",
    "        return int(numeric_value)\n",
    "    else:\n",
    "        return 0\n",
    "    "
   ]
  },
  {
   "cell_type": "code",
   "execution_count": 160,
   "id": "71335d0f",
   "metadata": {},
   "outputs": [],
   "source": [
    "sample_data['size'] = sample_data['size'].apply(extract_text_from_string)"
   ]
  },
  {
   "cell_type": "code",
   "execution_count": 161,
   "id": "6aedd34d",
   "metadata": {},
   "outputs": [
    {
     "data": {
      "text/plain": [
       "0       14\n",
       "1      536\n",
       "2     4427\n",
       "3     3871\n",
       "4     1137\n",
       "5      282\n",
       "6      175\n",
       "7       77\n",
       "8       68\n",
       "9       48\n",
       "10      10\n",
       "11       4\n",
       "12       1\n",
       "13       1\n",
       "14       1\n",
       "16       1\n",
       "19       1\n",
       "27       1\n",
       "43       1\n",
       "Name: size, dtype: int64"
      ]
     },
     "execution_count": 161,
     "metadata": {},
     "output_type": "execute_result"
    }
   ],
   "source": [
    "sample_data['size'].value_counts().sort_index()"
   ]
  },
  {
   "cell_type": "code",
   "execution_count": 162,
   "id": "1706fc8c",
   "metadata": {},
   "outputs": [
    {
     "data": {
      "text/plain": [
       "<bound method IndexOpsMixin.value_counts of 0               19-Dec\n",
       "1        Ready To Move\n",
       "2        Ready To Move\n",
       "3        Ready To Move\n",
       "4        Ready To Move\n",
       "             ...      \n",
       "10651    Ready To Move\n",
       "10652    Ready To Move\n",
       "10653    Ready To Move\n",
       "10654    Ready To Move\n",
       "10655    Ready To Move\n",
       "Name: availability, Length: 10656, dtype: object>"
      ]
     },
     "execution_count": 162,
     "metadata": {},
     "output_type": "execute_result"
    }
   ],
   "source": [
    "sample_data.availability.value_counts"
   ]
  },
  {
   "cell_type": "code",
   "execution_count": 163,
   "id": "b4156be2",
   "metadata": {},
   "outputs": [],
   "source": [
    "def extract_month_string(value):\n",
    "    if value == 'Ready To Move' or value == 'Immediate Possession':\n",
    "        return 'Ready To Move'\n",
    "    else:\n",
    "        parts = value.split('-')\n",
    "        try:\n",
    "            return parts[1]\n",
    "        except Exception as e:\n",
    "            print(parts)"
   ]
  },
  {
   "cell_type": "code",
   "execution_count": 164,
   "id": "f67f7352",
   "metadata": {
    "scrolled": true
   },
   "outputs": [],
   "source": [
    "sample_data.availability = sample_data.availability.apply(extract_month_string)"
   ]
  },
  {
   "cell_type": "code",
   "execution_count": 165,
   "id": "094b5770",
   "metadata": {
    "scrolled": true
   },
   "outputs": [
    {
     "data": {
      "text/plain": [
       "0              Dec\n",
       "1    Ready To Move\n",
       "2    Ready To Move\n",
       "3    Ready To Move\n",
       "4    Ready To Move\n",
       "Name: availability, dtype: object"
      ]
     },
     "execution_count": 165,
     "metadata": {},
     "output_type": "execute_result"
    }
   ],
   "source": [
    "sample_data.availability.head()"
   ]
  },
  {
   "cell_type": "code",
   "execution_count": 166,
   "id": "d63cce97",
   "metadata": {},
   "outputs": [
    {
     "data": {
      "text/plain": [
       "0"
      ]
     },
     "execution_count": 166,
     "metadata": {},
     "output_type": "execute_result"
    }
   ],
   "source": [
    "sample_data.availability.isnull().sum()"
   ]
  },
  {
   "cell_type": "markdown",
   "id": "c9ba7c54",
   "metadata": {},
   "source": [
    "### Handling Missing Values"
   ]
  },
  {
   "cell_type": "code",
   "execution_count": 167,
   "id": "122b6458",
   "metadata": {
    "scrolled": true
   },
   "outputs": [
    {
     "data": {
      "text/html": [
       "<div>\n",
       "<style scoped>\n",
       "    .dataframe tbody tr th:only-of-type {\n",
       "        vertical-align: middle;\n",
       "    }\n",
       "\n",
       "    .dataframe tbody tr th {\n",
       "        vertical-align: top;\n",
       "    }\n",
       "\n",
       "    .dataframe thead th {\n",
       "        text-align: right;\n",
       "    }\n",
       "</style>\n",
       "<table border=\"1\" class=\"dataframe\">\n",
       "  <thead>\n",
       "    <tr style=\"text-align: right;\">\n",
       "      <th></th>\n",
       "      <th>Total</th>\n",
       "      <th>Percent</th>\n",
       "      <th>Type</th>\n",
       "    </tr>\n",
       "  </thead>\n",
       "  <tbody>\n",
       "    <tr>\n",
       "      <th>society</th>\n",
       "      <td>4428</td>\n",
       "      <td>41.554054</td>\n",
       "      <td>object</td>\n",
       "    </tr>\n",
       "    <tr>\n",
       "      <th>dist_from_city</th>\n",
       "      <td>1026</td>\n",
       "      <td>9.628378</td>\n",
       "      <td>float64</td>\n",
       "    </tr>\n",
       "    <tr>\n",
       "      <th>balcony</th>\n",
       "      <td>504</td>\n",
       "      <td>4.729730</td>\n",
       "      <td>float64</td>\n",
       "    </tr>\n",
       "    <tr>\n",
       "      <th>bath</th>\n",
       "      <td>65</td>\n",
       "      <td>0.609985</td>\n",
       "      <td>float64</td>\n",
       "    </tr>\n",
       "    <tr>\n",
       "      <th>location</th>\n",
       "      <td>1</td>\n",
       "      <td>0.009384</td>\n",
       "      <td>object</td>\n",
       "    </tr>\n",
       "    <tr>\n",
       "      <th>area_type</th>\n",
       "      <td>0</td>\n",
       "      <td>0.000000</td>\n",
       "      <td>object</td>\n",
       "    </tr>\n",
       "    <tr>\n",
       "      <th>availability</th>\n",
       "      <td>0</td>\n",
       "      <td>0.000000</td>\n",
       "      <td>object</td>\n",
       "    </tr>\n",
       "    <tr>\n",
       "      <th>size</th>\n",
       "      <td>0</td>\n",
       "      <td>0.000000</td>\n",
       "      <td>int64</td>\n",
       "    </tr>\n",
       "    <tr>\n",
       "      <th>total_sqft</th>\n",
       "      <td>0</td>\n",
       "      <td>0.000000</td>\n",
       "      <td>float64</td>\n",
       "    </tr>\n",
       "    <tr>\n",
       "      <th>price</th>\n",
       "      <td>0</td>\n",
       "      <td>0.000000</td>\n",
       "      <td>float64</td>\n",
       "    </tr>\n",
       "  </tbody>\n",
       "</table>\n",
       "</div>"
      ],
      "text/plain": [
       "                Total    Percent     Type\n",
       "society          4428  41.554054   object\n",
       "dist_from_city   1026   9.628378  float64\n",
       "balcony           504   4.729730  float64\n",
       "bath               65   0.609985  float64\n",
       "location            1   0.009384   object\n",
       "area_type           0   0.000000   object\n",
       "availability        0   0.000000   object\n",
       "size                0   0.000000    int64\n",
       "total_sqft          0   0.000000  float64\n",
       "price               0   0.000000  float64"
      ]
     },
     "execution_count": 167,
     "metadata": {},
     "output_type": "execute_result"
    }
   ],
   "source": [
    "total_missing = sample_data.isnull().sum().sort_values(ascending=False)\n",
    "percent = ((sample_data.isnull().sum()/sample_data.shape[0])*100)\n",
    "percent = percent.sort_values(ascending=False)\n",
    "data_missing = pd.concat([total_missing, percent], axis=1, keys=['Total', 'Percent'])\n",
    "data_missing['Type'] = sample_data[data_missing.index].dtypes\n",
    "data_missing"
   ]
  },
  {
   "cell_type": "code",
   "execution_count": 168,
   "id": "b6f3de74",
   "metadata": {
    "scrolled": true
   },
   "outputs": [
    {
     "data": {
      "text/plain": [
       "(10656, 10)"
      ]
     },
     "execution_count": 168,
     "metadata": {},
     "output_type": "execute_result"
    }
   ],
   "source": [
    "sample_data.shape"
   ]
  },
  {
   "cell_type": "code",
   "execution_count": 169,
   "id": "89ae0beb",
   "metadata": {},
   "outputs": [
    {
     "data": {
      "text/plain": [
       "(5698, 10)"
      ]
     },
     "execution_count": 169,
     "metadata": {},
     "output_type": "execute_result"
    }
   ],
   "source": [
    "sample_data_drop = sample_data.dropna()\n",
    "sample_data_drop.shape"
   ]
  },
  {
   "cell_type": "markdown",
   "id": "3675ddfe",
   "metadata": {},
   "source": [
    "Here 3932 rows of data is lost , hence we need to handle the values columnwise"
   ]
  },
  {
   "cell_type": "markdown",
   "id": "3e4edb00",
   "metadata": {},
   "source": [
    "### The variable -Balcony"
   ]
  },
  {
   "cell_type": "code",
   "execution_count": 170,
   "id": "ffa7f0a1",
   "metadata": {
    "scrolled": false
   },
   "outputs": [
    {
     "data": {
      "text/plain": [
       "2.0    4069\n",
       "1.0    3894\n",
       "3.0    1342\n",
       "0.0     847\n",
       "Name: balcony, dtype: int64"
      ]
     },
     "execution_count": 170,
     "metadata": {},
     "output_type": "execute_result"
    }
   ],
   "source": [
    "sample_data.balcony.value_counts()"
   ]
  },
  {
   "cell_type": "code",
   "execution_count": 171,
   "id": "ef6cf9ae",
   "metadata": {
    "scrolled": true
   },
   "outputs": [
    {
     "data": {
      "text/plain": [
       "504"
      ]
     },
     "execution_count": 171,
     "metadata": {},
     "output_type": "execute_result"
    }
   ],
   "source": [
    "sample_data.balcony.isna().sum()"
   ]
  },
  {
   "cell_type": "code",
   "execution_count": 172,
   "id": "cd62fab5",
   "metadata": {},
   "outputs": [],
   "source": [
    "def replace_balcony_values(value):\n",
    "    if pd.isnull(value):\n",
    "        return  0\n",
    "    else:\n",
    "        return value\n"
   ]
  },
  {
   "cell_type": "code",
   "execution_count": 173,
   "id": "fb7d6222",
   "metadata": {},
   "outputs": [],
   "source": [
    "sample_data.balcony = sample_data.balcony.apply(replace_balcony_values)"
   ]
  },
  {
   "cell_type": "code",
   "execution_count": 174,
   "id": "a0cdb329",
   "metadata": {
    "scrolled": true
   },
   "outputs": [
    {
     "data": {
      "text/plain": [
       "0"
      ]
     },
     "execution_count": 174,
     "metadata": {},
     "output_type": "execute_result"
    }
   ],
   "source": [
    "sample_data.balcony.isnull().sum()"
   ]
  },
  {
   "cell_type": "code",
   "execution_count": 175,
   "id": "ded84e8f",
   "metadata": {
    "scrolled": true
   },
   "outputs": [
    {
     "data": {
      "text/plain": [
       "2.0    4069\n",
       "1.0    3894\n",
       "0.0    1351\n",
       "3.0    1342\n",
       "Name: balcony, dtype: int64"
      ]
     },
     "execution_count": 175,
     "metadata": {},
     "output_type": "execute_result"
    }
   ],
   "source": [
    "sample_data.balcony.value_counts()"
   ]
  },
  {
   "cell_type": "markdown",
   "id": "24df6ad8",
   "metadata": {},
   "source": [
    "### The variable -Bath"
   ]
  },
  {
   "cell_type": "code",
   "execution_count": 176,
   "id": "4a5cdbde",
   "metadata": {
    "scrolled": false
   },
   "outputs": [
    {
     "data": {
      "text/plain": [
       "1.0      639\n",
       "2.0     5530\n",
       "3.0     2608\n",
       "4.0      991\n",
       "5.0      411\n",
       "6.0      216\n",
       "7.0       86\n",
       "8.0       48\n",
       "9.0       35\n",
       "10.0      11\n",
       "11.0       2\n",
       "12.0       7\n",
       "13.0       1\n",
       "14.0       1\n",
       "15.0       1\n",
       "16.0       2\n",
       "27.0       1\n",
       "40.0       1\n",
       "Name: bath, dtype: int64"
      ]
     },
     "execution_count": 176,
     "metadata": {},
     "output_type": "execute_result"
    }
   ],
   "source": [
    "sample_data.bath.value_counts().sort_index(ascending=True)"
   ]
  },
  {
   "cell_type": "code",
   "execution_count": 177,
   "id": "d0e80aeb",
   "metadata": {
    "scrolled": true
   },
   "outputs": [
    {
     "data": {
      "text/plain": [
       "65"
      ]
     },
     "execution_count": 177,
     "metadata": {},
     "output_type": "execute_result"
    }
   ],
   "source": [
    "sample_data.bath.isnull().sum()"
   ]
  },
  {
   "cell_type": "code",
   "execution_count": 178,
   "id": "dfc77b3c",
   "metadata": {},
   "outputs": [],
   "source": [
    "def replace_bath_values(value):\n",
    "    if pd.isnull(value):\n",
    "        return  0\n",
    "    else:\n",
    "        return value\n"
   ]
  },
  {
   "cell_type": "code",
   "execution_count": 179,
   "id": "fee57260",
   "metadata": {},
   "outputs": [],
   "source": [
    "sample_data.bath = sample_data.bath.apply(replace_bath_values)"
   ]
  },
  {
   "cell_type": "code",
   "execution_count": 180,
   "id": "4710d7e4",
   "metadata": {},
   "outputs": [
    {
     "data": {
      "text/plain": [
       "0"
      ]
     },
     "execution_count": 180,
     "metadata": {},
     "output_type": "execute_result"
    }
   ],
   "source": [
    "sample_data.bath.isnull().sum()"
   ]
  },
  {
   "cell_type": "code",
   "execution_count": 181,
   "id": "ff515150",
   "metadata": {
    "scrolled": true
   },
   "outputs": [
    {
     "data": {
      "text/plain": [
       "0.0       65\n",
       "1.0      639\n",
       "2.0     5530\n",
       "3.0     2608\n",
       "4.0      991\n",
       "5.0      411\n",
       "6.0      216\n",
       "7.0       86\n",
       "8.0       48\n",
       "9.0       35\n",
       "10.0      11\n",
       "11.0       2\n",
       "12.0       7\n",
       "13.0       1\n",
       "14.0       1\n",
       "15.0       1\n",
       "16.0       2\n",
       "27.0       1\n",
       "40.0       1\n",
       "Name: bath, dtype: int64"
      ]
     },
     "execution_count": 181,
     "metadata": {},
     "output_type": "execute_result"
    }
   ],
   "source": [
    "sample_data.bath.value_counts().sort_index(ascending=True)"
   ]
  },
  {
   "cell_type": "markdown",
   "id": "72db556d",
   "metadata": {},
   "source": [
    "### The variable -Society"
   ]
  },
  {
   "cell_type": "code",
   "execution_count": 182,
   "id": "2af1a1b7",
   "metadata": {
    "scrolled": false
   },
   "outputs": [
    {
     "data": {
      "text/plain": [
       "GrrvaGr    70\n",
       "PrarePa    58\n",
       "Prtates    52\n",
       "Sryalan    45\n",
       "GMown E    45\n",
       "           ..\n",
       "FlsicFl     1\n",
       "JRichee     1\n",
       "Keersto     1\n",
       "AHavenc     1\n",
       "Srhemay     1\n",
       "Name: society, Length: 2364, dtype: int64"
      ]
     },
     "execution_count": 182,
     "metadata": {},
     "output_type": "execute_result"
    }
   ],
   "source": [
    "sample_data.society.value_counts()"
   ]
  },
  {
   "cell_type": "code",
   "execution_count": 183,
   "id": "00d79f34",
   "metadata": {
    "scrolled": true
   },
   "outputs": [
    {
     "data": {
      "text/plain": [
       "4428"
      ]
     },
     "execution_count": 183,
     "metadata": {},
     "output_type": "execute_result"
    }
   ],
   "source": [
    "sample_data.society.isnull().sum()"
   ]
  },
  {
   "cell_type": "code",
   "execution_count": 184,
   "id": "d420802e",
   "metadata": {},
   "outputs": [],
   "source": [
    "def replace_society_values(value):\n",
    "    if pd.isnull(value):\n",
    "        return \"Other\"\n",
    "    else:\n",
    "        return value"
   ]
  },
  {
   "cell_type": "code",
   "execution_count": 185,
   "id": "7ee23316",
   "metadata": {
    "scrolled": true
   },
   "outputs": [],
   "source": [
    "sample_data.society = sample_data.society.apply(replace_society_values)"
   ]
  },
  {
   "cell_type": "code",
   "execution_count": 186,
   "id": "30bfd89e",
   "metadata": {},
   "outputs": [
    {
     "data": {
      "text/plain": [
       "0"
      ]
     },
     "execution_count": 186,
     "metadata": {},
     "output_type": "execute_result"
    }
   ],
   "source": [
    "sample_data.society.isnull().sum()"
   ]
  },
  {
   "cell_type": "code",
   "execution_count": 187,
   "id": "152a5eb4",
   "metadata": {},
   "outputs": [
    {
     "data": {
      "text/plain": [
       "area_type            0\n",
       "availability         0\n",
       "location             1\n",
       "size                 0\n",
       "society              0\n",
       "total_sqft           0\n",
       "bath                 0\n",
       "balcony              0\n",
       "price                0\n",
       "dist_from_city    1026\n",
       "dtype: int64"
      ]
     },
     "execution_count": 187,
     "metadata": {},
     "output_type": "execute_result"
    }
   ],
   "source": [
    "sample_data.isnull().sum()"
   ]
  },
  {
   "cell_type": "code",
   "execution_count": 188,
   "id": "1c2bc8dc",
   "metadata": {},
   "outputs": [
    {
     "data": {
      "text/html": [
       "<div>\n",
       "<style scoped>\n",
       "    .dataframe tbody tr th:only-of-type {\n",
       "        vertical-align: middle;\n",
       "    }\n",
       "\n",
       "    .dataframe tbody tr th {\n",
       "        vertical-align: top;\n",
       "    }\n",
       "\n",
       "    .dataframe thead th {\n",
       "        text-align: right;\n",
       "    }\n",
       "</style>\n",
       "<table border=\"1\" class=\"dataframe\">\n",
       "  <thead>\n",
       "    <tr style=\"text-align: right;\">\n",
       "      <th></th>\n",
       "      <th>location</th>\n",
       "      <th>avg_2bhk_rent</th>\n",
       "    </tr>\n",
       "  </thead>\n",
       "  <tbody>\n",
       "    <tr>\n",
       "      <th>0</th>\n",
       "      <td>Krishnarajapura</td>\n",
       "      <td>11954</td>\n",
       "    </tr>\n",
       "    <tr>\n",
       "      <th>1</th>\n",
       "      <td>Sarjapur</td>\n",
       "      <td>45000</td>\n",
       "    </tr>\n",
       "    <tr>\n",
       "      <th>2</th>\n",
       "      <td>Whitefield Hope Farm Junction</td>\n",
       "      <td>26370</td>\n",
       "    </tr>\n",
       "    <tr>\n",
       "      <th>3</th>\n",
       "      <td>Devanahalli</td>\n",
       "      <td>17302</td>\n",
       "    </tr>\n",
       "    <tr>\n",
       "      <th>4</th>\n",
       "      <td>Whitefield</td>\n",
       "      <td>14981</td>\n",
       "    </tr>\n",
       "    <tr>\n",
       "      <th>...</th>\n",
       "      <td>...</td>\n",
       "      <td>...</td>\n",
       "    </tr>\n",
       "    <tr>\n",
       "      <th>152</th>\n",
       "      <td>Bagaluru</td>\n",
       "      <td>8500</td>\n",
       "    </tr>\n",
       "    <tr>\n",
       "      <th>153</th>\n",
       "      <td>seegehalli</td>\n",
       "      <td>12000</td>\n",
       "    </tr>\n",
       "    <tr>\n",
       "      <th>154</th>\n",
       "      <td>Rayasandra</td>\n",
       "      <td>11000</td>\n",
       "    </tr>\n",
       "    <tr>\n",
       "      <th>155</th>\n",
       "      <td>JP Nagar Phase 6</td>\n",
       "      <td>21500</td>\n",
       "    </tr>\n",
       "    <tr>\n",
       "      <th>156</th>\n",
       "      <td>K C Krishna Reddy Layout</td>\n",
       "      <td>8875</td>\n",
       "    </tr>\n",
       "  </tbody>\n",
       "</table>\n",
       "<p>157 rows × 2 columns</p>\n",
       "</div>"
      ],
      "text/plain": [
       "                          location  avg_2bhk_rent\n",
       "0                  Krishnarajapura          11954\n",
       "1                         Sarjapur          45000\n",
       "2    Whitefield Hope Farm Junction          26370\n",
       "3                      Devanahalli          17302\n",
       "4                       Whitefield          14981\n",
       "..                             ...            ...\n",
       "152                       Bagaluru           8500\n",
       "153                     seegehalli          12000\n",
       "154                     Rayasandra          11000\n",
       "155               JP Nagar Phase 6          21500\n",
       "156       K C Krishna Reddy Layout           8875\n",
       "\n",
       "[157 rows x 2 columns]"
      ]
     },
     "execution_count": 188,
     "metadata": {},
     "output_type": "execute_result"
    }
   ],
   "source": [
    "avg_rent = pd.read_csv('avg_rent.csv')\n",
    "avg_rent"
   ]
  },
  {
   "cell_type": "code",
   "execution_count": 189,
   "id": "c8fa8c4c",
   "metadata": {},
   "outputs": [
    {
     "data": {
      "text/html": [
       "<div>\n",
       "<style scoped>\n",
       "    .dataframe tbody tr th:only-of-type {\n",
       "        vertical-align: middle;\n",
       "    }\n",
       "\n",
       "    .dataframe tbody tr th {\n",
       "        vertical-align: top;\n",
       "    }\n",
       "\n",
       "    .dataframe thead th {\n",
       "        text-align: right;\n",
       "    }\n",
       "</style>\n",
       "<table border=\"1\" class=\"dataframe\">\n",
       "  <thead>\n",
       "    <tr style=\"text-align: right;\">\n",
       "      <th></th>\n",
       "      <th>area_type</th>\n",
       "      <th>availability</th>\n",
       "      <th>location</th>\n",
       "      <th>size</th>\n",
       "      <th>society</th>\n",
       "      <th>total_sqft</th>\n",
       "      <th>bath</th>\n",
       "      <th>balcony</th>\n",
       "      <th>price</th>\n",
       "      <th>dist_from_city</th>\n",
       "      <th>avg_2bhk_rent</th>\n",
       "    </tr>\n",
       "  </thead>\n",
       "  <tbody>\n",
       "    <tr>\n",
       "      <th>0</th>\n",
       "      <td>Super built-up  Area</td>\n",
       "      <td>Dec</td>\n",
       "      <td>Electronic City Phase II</td>\n",
       "      <td>2</td>\n",
       "      <td>Coomee</td>\n",
       "      <td>1056.0</td>\n",
       "      <td>2.0</td>\n",
       "      <td>1.0</td>\n",
       "      <td>39.07</td>\n",
       "      <td>19.3</td>\n",
       "      <td>11500.0</td>\n",
       "    </tr>\n",
       "    <tr>\n",
       "      <th>1</th>\n",
       "      <td>Plot  Area</td>\n",
       "      <td>Ready To Move</td>\n",
       "      <td>Chikka Tirupathi</td>\n",
       "      <td>4</td>\n",
       "      <td>Theanmp</td>\n",
       "      <td>2600.0</td>\n",
       "      <td>5.0</td>\n",
       "      <td>3.0</td>\n",
       "      <td>120.00</td>\n",
       "      <td>34.6</td>\n",
       "      <td>NaN</td>\n",
       "    </tr>\n",
       "    <tr>\n",
       "      <th>2</th>\n",
       "      <td>Built-up  Area</td>\n",
       "      <td>Ready To Move</td>\n",
       "      <td>Uttarahalli</td>\n",
       "      <td>3</td>\n",
       "      <td>Other</td>\n",
       "      <td>1440.0</td>\n",
       "      <td>2.0</td>\n",
       "      <td>3.0</td>\n",
       "      <td>62.00</td>\n",
       "      <td>12.9</td>\n",
       "      <td>19750.0</td>\n",
       "    </tr>\n",
       "    <tr>\n",
       "      <th>3</th>\n",
       "      <td>Super built-up  Area</td>\n",
       "      <td>Ready To Move</td>\n",
       "      <td>Lingadheeranahalli</td>\n",
       "      <td>3</td>\n",
       "      <td>Soiewre</td>\n",
       "      <td>1521.0</td>\n",
       "      <td>3.0</td>\n",
       "      <td>1.0</td>\n",
       "      <td>95.00</td>\n",
       "      <td>21.4</td>\n",
       "      <td>NaN</td>\n",
       "    </tr>\n",
       "    <tr>\n",
       "      <th>4</th>\n",
       "      <td>Super built-up  Area</td>\n",
       "      <td>Ready To Move</td>\n",
       "      <td>Kothanur</td>\n",
       "      <td>2</td>\n",
       "      <td>Other</td>\n",
       "      <td>1200.0</td>\n",
       "      <td>2.0</td>\n",
       "      <td>1.0</td>\n",
       "      <td>51.00</td>\n",
       "      <td>11.8</td>\n",
       "      <td>16375.0</td>\n",
       "    </tr>\n",
       "    <tr>\n",
       "      <th>...</th>\n",
       "      <td>...</td>\n",
       "      <td>...</td>\n",
       "      <td>...</td>\n",
       "      <td>...</td>\n",
       "      <td>...</td>\n",
       "      <td>...</td>\n",
       "      <td>...</td>\n",
       "      <td>...</td>\n",
       "      <td>...</td>\n",
       "      <td>...</td>\n",
       "      <td>...</td>\n",
       "    </tr>\n",
       "    <tr>\n",
       "      <th>10651</th>\n",
       "      <td>Plot  Area</td>\n",
       "      <td>Ready To Move</td>\n",
       "      <td>Parappana Agrahara</td>\n",
       "      <td>1</td>\n",
       "      <td>Other</td>\n",
       "      <td>1200.0</td>\n",
       "      <td>1.0</td>\n",
       "      <td>0.0</td>\n",
       "      <td>45.00</td>\n",
       "      <td>14.6</td>\n",
       "      <td>NaN</td>\n",
       "    </tr>\n",
       "    <tr>\n",
       "      <th>10652</th>\n",
       "      <td>Super built-up  Area</td>\n",
       "      <td>Ready To Move</td>\n",
       "      <td>Bhoganhalli</td>\n",
       "      <td>2</td>\n",
       "      <td>Srhemay</td>\n",
       "      <td>1260.0</td>\n",
       "      <td>2.0</td>\n",
       "      <td>1.0</td>\n",
       "      <td>69.90</td>\n",
       "      <td>15.3</td>\n",
       "      <td>NaN</td>\n",
       "    </tr>\n",
       "    <tr>\n",
       "      <th>10653</th>\n",
       "      <td>Super built-up  Area</td>\n",
       "      <td>Ready To Move</td>\n",
       "      <td>Doddanakundi Industrial Area 2</td>\n",
       "      <td>2</td>\n",
       "      <td>Other</td>\n",
       "      <td>1092.0</td>\n",
       "      <td>2.0</td>\n",
       "      <td>1.0</td>\n",
       "      <td>49.00</td>\n",
       "      <td>13.4</td>\n",
       "      <td>NaN</td>\n",
       "    </tr>\n",
       "    <tr>\n",
       "      <th>10654</th>\n",
       "      <td>Super built-up  Area</td>\n",
       "      <td>Ready To Move</td>\n",
       "      <td>Kachanayakanahalli</td>\n",
       "      <td>2</td>\n",
       "      <td>ICoolon</td>\n",
       "      <td>827.0</td>\n",
       "      <td>2.0</td>\n",
       "      <td>0.0</td>\n",
       "      <td>34.00</td>\n",
       "      <td>NaN</td>\n",
       "      <td>NaN</td>\n",
       "    </tr>\n",
       "    <tr>\n",
       "      <th>10655</th>\n",
       "      <td>Super built-up  Area</td>\n",
       "      <td>Ready To Move</td>\n",
       "      <td>Horamavu Banaswadi</td>\n",
       "      <td>2</td>\n",
       "      <td>Other</td>\n",
       "      <td>1357.0</td>\n",
       "      <td>2.0</td>\n",
       "      <td>2.0</td>\n",
       "      <td>54.00</td>\n",
       "      <td>9.9</td>\n",
       "      <td>NaN</td>\n",
       "    </tr>\n",
       "  </tbody>\n",
       "</table>\n",
       "<p>10656 rows × 11 columns</p>\n",
       "</div>"
      ],
      "text/plain": [
       "                  area_type   availability                        location  \\\n",
       "0      Super built-up  Area            Dec        Electronic City Phase II   \n",
       "1                Plot  Area  Ready To Move                Chikka Tirupathi   \n",
       "2            Built-up  Area  Ready To Move                     Uttarahalli   \n",
       "3      Super built-up  Area  Ready To Move              Lingadheeranahalli   \n",
       "4      Super built-up  Area  Ready To Move                        Kothanur   \n",
       "...                     ...            ...                             ...   \n",
       "10651            Plot  Area  Ready To Move              Parappana Agrahara   \n",
       "10652  Super built-up  Area  Ready To Move                     Bhoganhalli   \n",
       "10653  Super built-up  Area  Ready To Move  Doddanakundi Industrial Area 2   \n",
       "10654  Super built-up  Area  Ready To Move              Kachanayakanahalli   \n",
       "10655  Super built-up  Area  Ready To Move              Horamavu Banaswadi   \n",
       "\n",
       "       size  society  total_sqft  bath  balcony   price  dist_from_city  \\\n",
       "0         2  Coomee       1056.0   2.0      1.0   39.07            19.3   \n",
       "1         4  Theanmp      2600.0   5.0      3.0  120.00            34.6   \n",
       "2         3    Other      1440.0   2.0      3.0   62.00            12.9   \n",
       "3         3  Soiewre      1521.0   3.0      1.0   95.00            21.4   \n",
       "4         2    Other      1200.0   2.0      1.0   51.00            11.8   \n",
       "...     ...      ...         ...   ...      ...     ...             ...   \n",
       "10651     1    Other      1200.0   1.0      0.0   45.00            14.6   \n",
       "10652     2  Srhemay      1260.0   2.0      1.0   69.90            15.3   \n",
       "10653     2    Other      1092.0   2.0      1.0   49.00            13.4   \n",
       "10654     2  ICoolon       827.0   2.0      0.0   34.00             NaN   \n",
       "10655     2    Other      1357.0   2.0      2.0   54.00             9.9   \n",
       "\n",
       "       avg_2bhk_rent  \n",
       "0            11500.0  \n",
       "1                NaN  \n",
       "2            19750.0  \n",
       "3                NaN  \n",
       "4            16375.0  \n",
       "...              ...  \n",
       "10651            NaN  \n",
       "10652            NaN  \n",
       "10653            NaN  \n",
       "10654            NaN  \n",
       "10655            NaN  \n",
       "\n",
       "[10656 rows x 11 columns]"
      ]
     },
     "execution_count": 189,
     "metadata": {},
     "output_type": "execute_result"
    }
   ],
   "source": [
    "sample_merge = pd.merge(sample_data, avg_rent, on='location', how='left')\n",
    "sample_merge"
   ]
  },
  {
   "cell_type": "code",
   "execution_count": 190,
   "id": "b3e9ef24",
   "metadata": {},
   "outputs": [
    {
     "name": "stdout",
     "output_type": "stream",
     "text": [
      "<class 'pandas.core.frame.DataFrame'>\n",
      "Int64Index: 10656 entries, 0 to 10655\n",
      "Data columns (total 11 columns):\n",
      " #   Column          Non-Null Count  Dtype  \n",
      "---  ------          --------------  -----  \n",
      " 0   area_type       10656 non-null  object \n",
      " 1   availability    10656 non-null  object \n",
      " 2   location        10655 non-null  object \n",
      " 3   size            10656 non-null  int64  \n",
      " 4   society         10656 non-null  object \n",
      " 5   total_sqft      10656 non-null  float64\n",
      " 6   bath            10656 non-null  float64\n",
      " 7   balcony         10656 non-null  float64\n",
      " 8   price           10656 non-null  float64\n",
      " 9   dist_from_city  9630 non-null   float64\n",
      " 10  avg_2bhk_rent   3665 non-null   float64\n",
      "dtypes: float64(6), int64(1), object(4)\n",
      "memory usage: 999.0+ KB\n"
     ]
    }
   ],
   "source": [
    "sample_merge.info()"
   ]
  },
  {
   "cell_type": "code",
   "execution_count": 191,
   "id": "f8921292",
   "metadata": {},
   "outputs": [
    {
     "data": {
      "text/plain": [
       "area_type            0\n",
       "availability         0\n",
       "location             1\n",
       "size                 0\n",
       "society              0\n",
       "total_sqft           0\n",
       "bath                 0\n",
       "balcony              0\n",
       "price                0\n",
       "dist_from_city    1026\n",
       "avg_2bhk_rent     6991\n",
       "dtype: int64"
      ]
     },
     "execution_count": 191,
     "metadata": {},
     "output_type": "execute_result"
    }
   ],
   "source": [
    "sample_merge.isnull().sum()"
   ]
  },
  {
   "cell_type": "markdown",
   "id": "8d28c16b",
   "metadata": {},
   "source": [
    "#### The variable Location"
   ]
  },
  {
   "cell_type": "code",
   "execution_count": 192,
   "id": "6481311b",
   "metadata": {},
   "outputs": [
    {
     "data": {
      "text/plain": [
       "count          10655\n",
       "unique          1197\n",
       "top       Whitefield\n",
       "freq             433\n",
       "Name: location, dtype: object"
      ]
     },
     "execution_count": 192,
     "metadata": {},
     "output_type": "execute_result"
    }
   ],
   "source": [
    "sample_merge.location.describe()"
   ]
  },
  {
   "cell_type": "code",
   "execution_count": 193,
   "id": "215855a2",
   "metadata": {},
   "outputs": [],
   "source": [
    "sample_merge.location.replace(np.NaN , \"Whitefield\" , inplace=True)"
   ]
  },
  {
   "cell_type": "code",
   "execution_count": 194,
   "id": "f60b6cd5",
   "metadata": {},
   "outputs": [
    {
     "data": {
      "text/plain": [
       "0"
      ]
     },
     "execution_count": 194,
     "metadata": {},
     "output_type": "execute_result"
    }
   ],
   "source": [
    "sample_merge.location.isnull().sum()"
   ]
  },
  {
   "cell_type": "code",
   "execution_count": 195,
   "id": "17e80d7a",
   "metadata": {},
   "outputs": [
    {
     "data": {
      "text/plain": [
       "total_sqft           0\n",
       "society              0\n",
       "size                 0\n",
       "price                0\n",
       "location             0\n",
       "dist_from_city    1026\n",
       "bath                 0\n",
       "balcony              0\n",
       "avg_2bhk_rent     6991\n",
       "availability         0\n",
       "area_type            0\n",
       "dtype: int64"
      ]
     },
     "execution_count": 195,
     "metadata": {},
     "output_type": "execute_result"
    }
   ],
   "source": [
    "sample_merge.isnull().sum().sort_index(ascending=False)"
   ]
  },
  {
   "cell_type": "markdown",
   "id": "894eee2a",
   "metadata": {},
   "source": [
    "### The Variable dist_from_city"
   ]
  },
  {
   "cell_type": "code",
   "execution_count": 196,
   "id": "400703ae",
   "metadata": {},
   "outputs": [
    {
     "data": {
      "text/plain": [
       "1026"
      ]
     },
     "execution_count": 196,
     "metadata": {},
     "output_type": "execute_result"
    }
   ],
   "source": [
    "sample_merge.dist_from_city.isnull().sum()"
   ]
  },
  {
   "cell_type": "code",
   "execution_count": 197,
   "id": "204984e9",
   "metadata": {},
   "outputs": [
    {
     "data": {
      "text/plain": [
       "count    9630.000000\n",
       "mean       15.191080\n",
       "std         6.242696\n",
       "min         1.900000\n",
       "25%        11.100000\n",
       "50%        14.400000\n",
       "75%        17.400000\n",
       "max        47.700000\n",
       "Name: dist_from_city, dtype: float64"
      ]
     },
     "execution_count": 197,
     "metadata": {},
     "output_type": "execute_result"
    }
   ],
   "source": [
    "sample_merge.dist_from_city.describe()"
   ]
  },
  {
   "cell_type": "code",
   "execution_count": 198,
   "id": "97191eae",
   "metadata": {},
   "outputs": [
    {
     "data": {
      "text/plain": [
       "1.4910097862407874"
      ]
     },
     "execution_count": 198,
     "metadata": {},
     "output_type": "execute_result"
    }
   ],
   "source": [
    "sample_merge.dist_from_city.skew()"
   ]
  },
  {
   "cell_type": "code",
   "execution_count": 199,
   "id": "d1653e4d",
   "metadata": {},
   "outputs": [],
   "source": [
    "mean_dist = sample_merge.dist_from_city.mean()"
   ]
  },
  {
   "cell_type": "code",
   "execution_count": 200,
   "id": "9b541a48",
   "metadata": {},
   "outputs": [],
   "source": [
    "sample_merge.dist_from_city.replace(np.NaN,mean_dist,inplace=True)"
   ]
  },
  {
   "cell_type": "code",
   "execution_count": 201,
   "id": "8daf65e8",
   "metadata": {},
   "outputs": [
    {
     "data": {
      "text/plain": [
       "0"
      ]
     },
     "execution_count": 201,
     "metadata": {},
     "output_type": "execute_result"
    }
   ],
   "source": [
    "sample_merge.dist_from_city.isnull().sum()"
   ]
  },
  {
   "cell_type": "code",
   "execution_count": 202,
   "id": "70c6af87",
   "metadata": {},
   "outputs": [
    {
     "data": {
      "text/plain": [
       "total_sqft           0\n",
       "society              0\n",
       "size                 0\n",
       "price                0\n",
       "location             0\n",
       "dist_from_city       0\n",
       "bath                 0\n",
       "balcony              0\n",
       "avg_2bhk_rent     6991\n",
       "availability         0\n",
       "area_type            0\n",
       "dtype: int64"
      ]
     },
     "execution_count": 202,
     "metadata": {},
     "output_type": "execute_result"
    }
   ],
   "source": [
    "sample_merge.isnull().sum().sort_index(ascending=False)"
   ]
  },
  {
   "cell_type": "markdown",
   "id": "16869445",
   "metadata": {},
   "source": [
    "### The Variable avg_2bhk_rent"
   ]
  },
  {
   "cell_type": "code",
   "execution_count": 203,
   "id": "a702626c",
   "metadata": {},
   "outputs": [
    {
     "data": {
      "text/plain": [
       "6991"
      ]
     },
     "execution_count": 203,
     "metadata": {},
     "output_type": "execute_result"
    }
   ],
   "source": [
    "sample_merge.avg_2bhk_rent.isnull().sum()"
   ]
  },
  {
   "cell_type": "code",
   "execution_count": 204,
   "id": "95b7c282",
   "metadata": {},
   "outputs": [
    {
     "data": {
      "text/plain": [
       "count      3665.000000\n",
       "mean      15363.440109\n",
       "std       14472.805948\n",
       "min        1756.000000\n",
       "25%       11714.000000\n",
       "50%       14981.000000\n",
       "75%       17340.000000\n",
       "max      800000.000000\n",
       "Name: avg_2bhk_rent, dtype: float64"
      ]
     },
     "execution_count": 204,
     "metadata": {},
     "output_type": "execute_result"
    }
   ],
   "source": [
    "sample_merge.avg_2bhk_rent.describe()"
   ]
  },
  {
   "cell_type": "code",
   "execution_count": 205,
   "id": "79a47226",
   "metadata": {},
   "outputs": [
    {
     "data": {
      "text/plain": [
       "43.653873134515614"
      ]
     },
     "execution_count": 205,
     "metadata": {},
     "output_type": "execute_result"
    }
   ],
   "source": [
    "sample_merge.avg_2bhk_rent.skew()"
   ]
  },
  {
   "cell_type": "code",
   "execution_count": 206,
   "id": "0822fda1",
   "metadata": {},
   "outputs": [],
   "source": [
    "mean_2bhk_rent = sample_merge.avg_2bhk_rent.mean()"
   ]
  },
  {
   "cell_type": "code",
   "execution_count": 207,
   "id": "b6442cc4",
   "metadata": {},
   "outputs": [],
   "source": [
    "sample_merge.avg_2bhk_rent.replace(np.NAN,mean_2bhk_rent,inplace=True)"
   ]
  },
  {
   "cell_type": "code",
   "execution_count": 208,
   "id": "2f0e9407",
   "metadata": {},
   "outputs": [
    {
     "data": {
      "text/plain": [
       "0"
      ]
     },
     "execution_count": 208,
     "metadata": {},
     "output_type": "execute_result"
    }
   ],
   "source": [
    "sample_merge.avg_2bhk_rent.isnull().sum()"
   ]
  },
  {
   "cell_type": "code",
   "execution_count": 209,
   "id": "24273ae1",
   "metadata": {},
   "outputs": [
    {
     "data": {
      "text/plain": [
       "total_sqft        0\n",
       "society           0\n",
       "size              0\n",
       "price             0\n",
       "location          0\n",
       "dist_from_city    0\n",
       "bath              0\n",
       "balcony           0\n",
       "avg_2bhk_rent     0\n",
       "availability      0\n",
       "area_type         0\n",
       "dtype: int64"
      ]
     },
     "execution_count": 209,
     "metadata": {},
     "output_type": "execute_result"
    }
   ],
   "source": [
    "sample_merge.isnull().sum().sort_index(ascending=False)"
   ]
  },
  {
   "cell_type": "code",
   "execution_count": 210,
   "id": "665e7955",
   "metadata": {
    "scrolled": true
   },
   "outputs": [
    {
     "data": {
      "text/plain": [
       "<function matplotlib.pyplot.show(close=None, block=None)>"
      ]
     },
     "execution_count": 210,
     "metadata": {},
     "output_type": "execute_result"
    },
    {
     "data": {
      "image/png": "[encoded data removed]",
      "text/plain": [
       "<Figure size 640x480 with 1 Axes>"
      ]
     },
     "metadata": {},
     "output_type": "display_data"
    }
   ],
   "source": [
    "sns.heatmap(sample_merge.isnull(),cbar=False)\n",
    "plt.show"
   ]
  },
  {
   "cell_type": "code",
   "execution_count": 211,
   "id": "856b3171",
   "metadata": {},
   "outputs": [],
   "source": [
    "from sklearn.preprocessing import OneHotEncoder\n",
    "from sklearn.model_selection import train_test_split \n",
    "from sklearn.linear_model import LinearRegression\n",
    "from sklearn.metrics import mean_squared_error"
   ]
  },
  {
   "cell_type": "markdown",
   "id": "3a7fc2e7",
   "metadata": {},
   "source": [
    "### Handling Non-Numeric data"
   ]
  },
  {
   "cell_type": "code",
   "execution_count": 212,
   "id": "8e13de59",
   "metadata": {
    "scrolled": true
   },
   "outputs": [
    {
     "data": {
      "text/html": [
       "<div>\n",
       "<style scoped>\n",
       "    .dataframe tbody tr th:only-of-type {\n",
       "        vertical-align: middle;\n",
       "    }\n",
       "\n",
       "    .dataframe tbody tr th {\n",
       "        vertical-align: top;\n",
       "    }\n",
       "\n",
       "    .dataframe thead th {\n",
       "        text-align: right;\n",
       "    }\n",
       "</style>\n",
       "<table border=\"1\" class=\"dataframe\">\n",
       "  <thead>\n",
       "    <tr style=\"text-align: right;\">\n",
       "      <th></th>\n",
       "      <th>area_type</th>\n",
       "      <th>availability</th>\n",
       "      <th>location</th>\n",
       "      <th>society</th>\n",
       "    </tr>\n",
       "  </thead>\n",
       "  <tbody>\n",
       "    <tr>\n",
       "      <th>count</th>\n",
       "      <td>10656</td>\n",
       "      <td>10656</td>\n",
       "      <td>10656</td>\n",
       "      <td>10656</td>\n",
       "    </tr>\n",
       "    <tr>\n",
       "      <th>unique</th>\n",
       "      <td>4</td>\n",
       "      <td>13</td>\n",
       "      <td>1197</td>\n",
       "      <td>2365</td>\n",
       "    </tr>\n",
       "    <tr>\n",
       "      <th>top</th>\n",
       "      <td>Super built-up  Area</td>\n",
       "      <td>Ready To Move</td>\n",
       "      <td>Whitefield</td>\n",
       "      <td>Other</td>\n",
       "    </tr>\n",
       "    <tr>\n",
       "      <th>freq</th>\n",
       "      <td>7009</td>\n",
       "      <td>8482</td>\n",
       "      <td>434</td>\n",
       "      <td>4428</td>\n",
       "    </tr>\n",
       "  </tbody>\n",
       "</table>\n",
       "</div>"
      ],
      "text/plain": [
       "                   area_type   availability    location society\n",
       "count                  10656          10656       10656   10656\n",
       "unique                     4             13        1197    2365\n",
       "top     Super built-up  Area  Ready To Move  Whitefield   Other\n",
       "freq                    7009           8482         434    4428"
      ]
     },
     "execution_count": 212,
     "metadata": {},
     "output_type": "execute_result"
    }
   ],
   "source": [
    "sample_merge.describe(include='object')"
   ]
  },
  {
   "cell_type": "code",
   "execution_count": 213,
   "id": "c847fa5b",
   "metadata": {},
   "outputs": [],
   "source": [
    "cat_columns=['area_type','availability','location','society']"
   ]
  },
  {
   "cell_type": "code",
   "execution_count": 214,
   "id": "bacd7965",
   "metadata": {},
   "outputs": [],
   "source": [
    "cat_data = sample_merge[cat_columns]"
   ]
  },
  {
   "cell_type": "code",
   "execution_count": 215,
   "id": "19c5ac82",
   "metadata": {},
   "outputs": [],
   "source": [
    "encoder = OneHotEncoder(handle_unknown='ignore', sparse=False)"
   ]
  },
  {
   "cell_type": "code",
   "execution_count": 216,
   "id": "ee8ab8b7",
   "metadata": {},
   "outputs": [
    {
     "name": "stderr",
     "output_type": "stream",
     "text": [
      "C:\\Anaconda\\Lib\\site-packages\\sklearn\\preprocessing\\_encoders.py:972: FutureWarning: `sparse` was renamed to `sparse_output` in version 1.2 and will be removed in 1.4. `sparse_output` is ignored unless you leave `sparse` to its default value.\n",
      "  warnings.warn(\n"
     ]
    }
   ],
   "source": [
    "encoded_data = pd.DataFrame(encoder.fit_transform(cat_data))"
   ]
  },
  {
   "cell_type": "code",
   "execution_count": 217,
   "id": "e11367db",
   "metadata": {},
   "outputs": [],
   "source": [
    "encoded_columns = encoder.categories_\n",
    "encoded_columns = [f\"{cat_feature}_{category}\" for cat_feature, categories in zip(cat_columns, encoded_columns) for category in categories]"
   ]
  },
  {
   "cell_type": "code",
   "execution_count": 218,
   "id": "1722fa77",
   "metadata": {},
   "outputs": [],
   "source": [
    "# Replace column names with the encoded feature names\n",
    "encoded_data.columns = encoded_columns"
   ]
  },
  {
   "cell_type": "code",
   "execution_count": 219,
   "id": "99f0de02",
   "metadata": {},
   "outputs": [],
   "source": [
    "# Drop original categorical features from the dataset\n",
    "sample_merge.drop(columns=cat_columns, inplace=True)"
   ]
  },
  {
   "cell_type": "code",
   "execution_count": 220,
   "id": "917d7c6f",
   "metadata": {},
   "outputs": [],
   "source": [
    "# Concatenate the original dataset with the encoded categorical features\n",
    "data_encoded = pd.concat([sample_merge, encoded_data], axis=1)"
   ]
  },
  {
   "cell_type": "code",
   "execution_count": 221,
   "id": "16c29892",
   "metadata": {
    "scrolled": true
   },
   "outputs": [
    {
     "data": {
      "text/html": [
       "<div>\n",
       "<style scoped>\n",
       "    .dataframe tbody tr th:only-of-type {\n",
       "        vertical-align: middle;\n",
       "    }\n",
       "\n",
       "    .dataframe tbody tr th {\n",
       "        vertical-align: top;\n",
       "    }\n",
       "\n",
       "    .dataframe thead th {\n",
       "        text-align: right;\n",
       "    }\n",
       "</style>\n",
       "<table border=\"1\" class=\"dataframe\">\n",
       "  <thead>\n",
       "    <tr style=\"text-align: right;\">\n",
       "      <th></th>\n",
       "      <th>size</th>\n",
       "      <th>total_sqft</th>\n",
       "      <th>bath</th>\n",
       "      <th>balcony</th>\n",
       "      <th>price</th>\n",
       "      <th>dist_from_city</th>\n",
       "      <th>avg_2bhk_rent</th>\n",
       "      <th>area_type_Built-up  Area</th>\n",
       "      <th>area_type_Carpet  Area</th>\n",
       "      <th>area_type_Plot  Area</th>\n",
       "      <th>...</th>\n",
       "      <th>society_WishiVa</th>\n",
       "      <th>society_WoarkEm</th>\n",
       "      <th>society_Xeitaa</th>\n",
       "      <th>society_YCnce R</th>\n",
       "      <th>society_Yaenti</th>\n",
       "      <th>society_ZeodsWo</th>\n",
       "      <th>society_Zonce E</th>\n",
       "      <th>society_Zostaa</th>\n",
       "      <th>society_i1odsne</th>\n",
       "      <th>society_i1rtsCo</th>\n",
       "    </tr>\n",
       "  </thead>\n",
       "  <tbody>\n",
       "    <tr>\n",
       "      <th>0</th>\n",
       "      <td>2</td>\n",
       "      <td>1056.0</td>\n",
       "      <td>2.0</td>\n",
       "      <td>1.0</td>\n",
       "      <td>39.07</td>\n",
       "      <td>19.3</td>\n",
       "      <td>11500.000000</td>\n",
       "      <td>0.0</td>\n",
       "      <td>0.0</td>\n",
       "      <td>0.0</td>\n",
       "      <td>...</td>\n",
       "      <td>0.0</td>\n",
       "      <td>0.0</td>\n",
       "      <td>0.0</td>\n",
       "      <td>0.0</td>\n",
       "      <td>0.0</td>\n",
       "      <td>0.0</td>\n",
       "      <td>0.0</td>\n",
       "      <td>0.0</td>\n",
       "      <td>0.0</td>\n",
       "      <td>0.0</td>\n",
       "    </tr>\n",
       "    <tr>\n",
       "      <th>1</th>\n",
       "      <td>4</td>\n",
       "      <td>2600.0</td>\n",
       "      <td>5.0</td>\n",
       "      <td>3.0</td>\n",
       "      <td>120.00</td>\n",
       "      <td>34.6</td>\n",
       "      <td>15363.440109</td>\n",
       "      <td>0.0</td>\n",
       "      <td>0.0</td>\n",
       "      <td>1.0</td>\n",
       "      <td>...</td>\n",
       "      <td>0.0</td>\n",
       "      <td>0.0</td>\n",
       "      <td>0.0</td>\n",
       "      <td>0.0</td>\n",
       "      <td>0.0</td>\n",
       "      <td>0.0</td>\n",
       "      <td>0.0</td>\n",
       "      <td>0.0</td>\n",
       "      <td>0.0</td>\n",
       "      <td>0.0</td>\n",
       "    </tr>\n",
       "    <tr>\n",
       "      <th>2</th>\n",
       "      <td>3</td>\n",
       "      <td>1440.0</td>\n",
       "      <td>2.0</td>\n",
       "      <td>3.0</td>\n",
       "      <td>62.00</td>\n",
       "      <td>12.9</td>\n",
       "      <td>19750.000000</td>\n",
       "      <td>1.0</td>\n",
       "      <td>0.0</td>\n",
       "      <td>0.0</td>\n",
       "      <td>...</td>\n",
       "      <td>0.0</td>\n",
       "      <td>0.0</td>\n",
       "      <td>0.0</td>\n",
       "      <td>0.0</td>\n",
       "      <td>0.0</td>\n",
       "      <td>0.0</td>\n",
       "      <td>0.0</td>\n",
       "      <td>0.0</td>\n",
       "      <td>0.0</td>\n",
       "      <td>0.0</td>\n",
       "    </tr>\n",
       "    <tr>\n",
       "      <th>3</th>\n",
       "      <td>3</td>\n",
       "      <td>1521.0</td>\n",
       "      <td>3.0</td>\n",
       "      <td>1.0</td>\n",
       "      <td>95.00</td>\n",
       "      <td>21.4</td>\n",
       "      <td>15363.440109</td>\n",
       "      <td>0.0</td>\n",
       "      <td>0.0</td>\n",
       "      <td>0.0</td>\n",
       "      <td>...</td>\n",
       "      <td>0.0</td>\n",
       "      <td>0.0</td>\n",
       "      <td>0.0</td>\n",
       "      <td>0.0</td>\n",
       "      <td>0.0</td>\n",
       "      <td>0.0</td>\n",
       "      <td>0.0</td>\n",
       "      <td>0.0</td>\n",
       "      <td>0.0</td>\n",
       "      <td>0.0</td>\n",
       "    </tr>\n",
       "    <tr>\n",
       "      <th>4</th>\n",
       "      <td>2</td>\n",
       "      <td>1200.0</td>\n",
       "      <td>2.0</td>\n",
       "      <td>1.0</td>\n",
       "      <td>51.00</td>\n",
       "      <td>11.8</td>\n",
       "      <td>16375.000000</td>\n",
       "      <td>0.0</td>\n",
       "      <td>0.0</td>\n",
       "      <td>0.0</td>\n",
       "      <td>...</td>\n",
       "      <td>0.0</td>\n",
       "      <td>0.0</td>\n",
       "      <td>0.0</td>\n",
       "      <td>0.0</td>\n",
       "      <td>0.0</td>\n",
       "      <td>0.0</td>\n",
       "      <td>0.0</td>\n",
       "      <td>0.0</td>\n",
       "      <td>0.0</td>\n",
       "      <td>0.0</td>\n",
       "    </tr>\n",
       "  </tbody>\n",
       "</table>\n",
       "<p>5 rows × 3586 columns</p>\n",
       "</div>"
      ],
      "text/plain": [
       "   size  total_sqft  bath  balcony   price  dist_from_city  avg_2bhk_rent  \\\n",
       "0     2      1056.0   2.0      1.0   39.07            19.3   11500.000000   \n",
       "1     4      2600.0   5.0      3.0  120.00            34.6   15363.440109   \n",
       "2     3      1440.0   2.0      3.0   62.00            12.9   19750.000000   \n",
       "3     3      1521.0   3.0      1.0   95.00            21.4   15363.440109   \n",
       "4     2      1200.0   2.0      1.0   51.00            11.8   16375.000000   \n",
       "\n",
       "   area_type_Built-up  Area  area_type_Carpet  Area  area_type_Plot  Area  \\\n",
       "0                       0.0                     0.0                   0.0   \n",
       "1                       0.0                     0.0                   1.0   \n",
       "2                       1.0                     0.0                   0.0   \n",
       "3                       0.0                     0.0                   0.0   \n",
       "4                       0.0                     0.0                   0.0   \n",
       "\n",
       "   ...  society_WishiVa  society_WoarkEm  society_Xeitaa   society_YCnce R  \\\n",
       "0  ...              0.0              0.0              0.0              0.0   \n",
       "1  ...              0.0              0.0              0.0              0.0   \n",
       "2  ...              0.0              0.0              0.0              0.0   \n",
       "3  ...              0.0              0.0              0.0              0.0   \n",
       "4  ...              0.0              0.0              0.0              0.0   \n",
       "\n",
       "   society_Yaenti   society_ZeodsWo  society_Zonce E  society_Zostaa   \\\n",
       "0              0.0              0.0              0.0              0.0   \n",
       "1              0.0              0.0              0.0              0.0   \n",
       "2              0.0              0.0              0.0              0.0   \n",
       "3              0.0              0.0              0.0              0.0   \n",
       "4              0.0              0.0              0.0              0.0   \n",
       "\n",
       "   society_i1odsne  society_i1rtsCo  \n",
       "0              0.0              0.0  \n",
       "1              0.0              0.0  \n",
       "2              0.0              0.0  \n",
       "3              0.0              0.0  \n",
       "4              0.0              0.0  \n",
       "\n",
       "[5 rows x 3586 columns]"
      ]
     },
     "execution_count": 221,
     "metadata": {},
     "output_type": "execute_result"
    }
   ],
   "source": [
    "data_encoded.head()"
   ]
  },
  {
   "cell_type": "code",
   "execution_count": 222,
   "id": "47a7b1b0",
   "metadata": {
    "scrolled": true
   },
   "outputs": [
    {
     "data": {
      "text/html": [
       "<div>\n",
       "<style scoped>\n",
       "    .dataframe tbody tr th:only-of-type {\n",
       "        vertical-align: middle;\n",
       "    }\n",
       "\n",
       "    .dataframe tbody tr th {\n",
       "        vertical-align: top;\n",
       "    }\n",
       "\n",
       "    .dataframe thead th {\n",
       "        text-align: right;\n",
       "    }\n",
       "</style>\n",
       "<table border=\"1\" class=\"dataframe\">\n",
       "  <thead>\n",
       "    <tr style=\"text-align: right;\">\n",
       "      <th></th>\n",
       "      <th>size</th>\n",
       "      <th>total_sqft</th>\n",
       "      <th>bath</th>\n",
       "      <th>balcony</th>\n",
       "      <th>price</th>\n",
       "      <th>dist_from_city</th>\n",
       "      <th>avg_2bhk_rent</th>\n",
       "      <th>area_type_Built-up  Area</th>\n",
       "      <th>area_type_Carpet  Area</th>\n",
       "      <th>area_type_Plot  Area</th>\n",
       "      <th>...</th>\n",
       "      <th>society_WishiVa</th>\n",
       "      <th>society_WoarkEm</th>\n",
       "      <th>society_Xeitaa</th>\n",
       "      <th>society_YCnce R</th>\n",
       "      <th>society_Yaenti</th>\n",
       "      <th>society_ZeodsWo</th>\n",
       "      <th>society_Zonce E</th>\n",
       "      <th>society_Zostaa</th>\n",
       "      <th>society_i1odsne</th>\n",
       "      <th>society_i1rtsCo</th>\n",
       "    </tr>\n",
       "  </thead>\n",
       "  <tbody>\n",
       "    <tr>\n",
       "      <th>count</th>\n",
       "      <td>10656.00000</td>\n",
       "      <td>10656.000000</td>\n",
       "      <td>10656.000000</td>\n",
       "      <td>10656.000000</td>\n",
       "      <td>10656.000000</td>\n",
       "      <td>10656.000000</td>\n",
       "      <td>10656.000000</td>\n",
       "      <td>10656.000000</td>\n",
       "      <td>10656.000000</td>\n",
       "      <td>10656.000000</td>\n",
       "      <td>...</td>\n",
       "      <td>10656.000000</td>\n",
       "      <td>10656.000000</td>\n",
       "      <td>10656.000000</td>\n",
       "      <td>10656.000000</td>\n",
       "      <td>10656.000000</td>\n",
       "      <td>10656.000000</td>\n",
       "      <td>10656.000000</td>\n",
       "      <td>10656.000000</td>\n",
       "      <td>10656.000000</td>\n",
       "      <td>10656.000000</td>\n",
       "    </tr>\n",
       "    <tr>\n",
       "      <th>mean</th>\n",
       "      <td>2.79786</td>\n",
       "      <td>1556.040879</td>\n",
       "      <td>2.674174</td>\n",
       "      <td>1.506944</td>\n",
       "      <td>112.214256</td>\n",
       "      <td>15.191080</td>\n",
       "      <td>15363.440109</td>\n",
       "      <td>0.180837</td>\n",
       "      <td>0.006475</td>\n",
       "      <td>0.154936</td>\n",
       "      <td>...</td>\n",
       "      <td>0.000094</td>\n",
       "      <td>0.000094</td>\n",
       "      <td>0.000094</td>\n",
       "      <td>0.000188</td>\n",
       "      <td>0.000094</td>\n",
       "      <td>0.000094</td>\n",
       "      <td>0.000188</td>\n",
       "      <td>0.000282</td>\n",
       "      <td>0.000094</td>\n",
       "      <td>0.000282</td>\n",
       "    </tr>\n",
       "    <tr>\n",
       "      <th>std</th>\n",
       "      <td>1.31449</td>\n",
       "      <td>1274.324444</td>\n",
       "      <td>1.364452</td>\n",
       "      <td>0.869175</td>\n",
       "      <td>142.231967</td>\n",
       "      <td>5.934526</td>\n",
       "      <td>8486.991057</td>\n",
       "      <td>0.384901</td>\n",
       "      <td>0.080212</td>\n",
       "      <td>0.361861</td>\n",
       "      <td>...</td>\n",
       "      <td>0.009687</td>\n",
       "      <td>0.009687</td>\n",
       "      <td>0.009687</td>\n",
       "      <td>0.013699</td>\n",
       "      <td>0.009687</td>\n",
       "      <td>0.009687</td>\n",
       "      <td>0.013699</td>\n",
       "      <td>0.016777</td>\n",
       "      <td>0.009687</td>\n",
       "      <td>0.016777</td>\n",
       "    </tr>\n",
       "    <tr>\n",
       "      <th>min</th>\n",
       "      <td>0.00000</td>\n",
       "      <td>1.000000</td>\n",
       "      <td>0.000000</td>\n",
       "      <td>0.000000</td>\n",
       "      <td>8.000000</td>\n",
       "      <td>1.900000</td>\n",
       "      <td>1756.000000</td>\n",
       "      <td>0.000000</td>\n",
       "      <td>0.000000</td>\n",
       "      <td>0.000000</td>\n",
       "      <td>...</td>\n",
       "      <td>0.000000</td>\n",
       "      <td>0.000000</td>\n",
       "      <td>0.000000</td>\n",
       "      <td>0.000000</td>\n",
       "      <td>0.000000</td>\n",
       "      <td>0.000000</td>\n",
       "      <td>0.000000</td>\n",
       "      <td>0.000000</td>\n",
       "      <td>0.000000</td>\n",
       "      <td>0.000000</td>\n",
       "    </tr>\n",
       "    <tr>\n",
       "      <th>25%</th>\n",
       "      <td>2.00000</td>\n",
       "      <td>1100.000000</td>\n",
       "      <td>2.000000</td>\n",
       "      <td>1.000000</td>\n",
       "      <td>50.000000</td>\n",
       "      <td>11.500000</td>\n",
       "      <td>15363.440109</td>\n",
       "      <td>0.000000</td>\n",
       "      <td>0.000000</td>\n",
       "      <td>0.000000</td>\n",
       "      <td>...</td>\n",
       "      <td>0.000000</td>\n",
       "      <td>0.000000</td>\n",
       "      <td>0.000000</td>\n",
       "      <td>0.000000</td>\n",
       "      <td>0.000000</td>\n",
       "      <td>0.000000</td>\n",
       "      <td>0.000000</td>\n",
       "      <td>0.000000</td>\n",
       "      <td>0.000000</td>\n",
       "      <td>0.000000</td>\n",
       "    </tr>\n",
       "    <tr>\n",
       "      <th>50%</th>\n",
       "      <td>3.00000</td>\n",
       "      <td>1272.000000</td>\n",
       "      <td>2.000000</td>\n",
       "      <td>2.000000</td>\n",
       "      <td>72.000000</td>\n",
       "      <td>15.100000</td>\n",
       "      <td>15363.440109</td>\n",
       "      <td>0.000000</td>\n",
       "      <td>0.000000</td>\n",
       "      <td>0.000000</td>\n",
       "      <td>...</td>\n",
       "      <td>0.000000</td>\n",
       "      <td>0.000000</td>\n",
       "      <td>0.000000</td>\n",
       "      <td>0.000000</td>\n",
       "      <td>0.000000</td>\n",
       "      <td>0.000000</td>\n",
       "      <td>0.000000</td>\n",
       "      <td>0.000000</td>\n",
       "      <td>0.000000</td>\n",
       "      <td>0.000000</td>\n",
       "    </tr>\n",
       "    <tr>\n",
       "      <th>75%</th>\n",
       "      <td>3.00000</td>\n",
       "      <td>1678.000000</td>\n",
       "      <td>3.000000</td>\n",
       "      <td>2.000000</td>\n",
       "      <td>120.000000</td>\n",
       "      <td>17.300000</td>\n",
       "      <td>15363.440109</td>\n",
       "      <td>0.000000</td>\n",
       "      <td>0.000000</td>\n",
       "      <td>0.000000</td>\n",
       "      <td>...</td>\n",
       "      <td>0.000000</td>\n",
       "      <td>0.000000</td>\n",
       "      <td>0.000000</td>\n",
       "      <td>0.000000</td>\n",
       "      <td>0.000000</td>\n",
       "      <td>0.000000</td>\n",
       "      <td>0.000000</td>\n",
       "      <td>0.000000</td>\n",
       "      <td>0.000000</td>\n",
       "      <td>0.000000</td>\n",
       "    </tr>\n",
       "    <tr>\n",
       "      <th>max</th>\n",
       "      <td>43.00000</td>\n",
       "      <td>52272.000000</td>\n",
       "      <td>40.000000</td>\n",
       "      <td>3.000000</td>\n",
       "      <td>2700.000000</td>\n",
       "      <td>47.700000</td>\n",
       "      <td>800000.000000</td>\n",
       "      <td>1.000000</td>\n",
       "      <td>1.000000</td>\n",
       "      <td>1.000000</td>\n",
       "      <td>...</td>\n",
       "      <td>1.000000</td>\n",
       "      <td>1.000000</td>\n",
       "      <td>1.000000</td>\n",
       "      <td>1.000000</td>\n",
       "      <td>1.000000</td>\n",
       "      <td>1.000000</td>\n",
       "      <td>1.000000</td>\n",
       "      <td>1.000000</td>\n",
       "      <td>1.000000</td>\n",
       "      <td>1.000000</td>\n",
       "    </tr>\n",
       "  </tbody>\n",
       "</table>\n",
       "<p>8 rows × 3586 columns</p>\n",
       "</div>"
      ],
      "text/plain": [
       "              size    total_sqft          bath       balcony         price  \\\n",
       "count  10656.00000  10656.000000  10656.000000  10656.000000  10656.000000   \n",
       "mean       2.79786   1556.040879      2.674174      1.506944    112.214256   \n",
       "std        1.31449   1274.324444      1.364452      0.869175    142.231967   \n",
       "min        0.00000      1.000000      0.000000      0.000000      8.000000   \n",
       "25%        2.00000   1100.000000      2.000000      1.000000     50.000000   \n",
       "50%        3.00000   1272.000000      2.000000      2.000000     72.000000   \n",
       "75%        3.00000   1678.000000      3.000000      2.000000    120.000000   \n",
       "max       43.00000  52272.000000     40.000000      3.000000   2700.000000   \n",
       "\n",
       "       dist_from_city  avg_2bhk_rent  area_type_Built-up  Area  \\\n",
       "count    10656.000000   10656.000000              10656.000000   \n",
       "mean        15.191080   15363.440109                  0.180837   \n",
       "std          5.934526    8486.991057                  0.384901   \n",
       "min          1.900000    1756.000000                  0.000000   \n",
       "25%         11.500000   15363.440109                  0.000000   \n",
       "50%         15.100000   15363.440109                  0.000000   \n",
       "75%         17.300000   15363.440109                  0.000000   \n",
       "max         47.700000  800000.000000                  1.000000   \n",
       "\n",
       "       area_type_Carpet  Area  area_type_Plot  Area  ...  society_WishiVa  \\\n",
       "count            10656.000000          10656.000000  ...     10656.000000   \n",
       "mean                 0.006475              0.154936  ...         0.000094   \n",
       "std                  0.080212              0.361861  ...         0.009687   \n",
       "min                  0.000000              0.000000  ...         0.000000   \n",
       "25%                  0.000000              0.000000  ...         0.000000   \n",
       "50%                  0.000000              0.000000  ...         0.000000   \n",
       "75%                  0.000000              0.000000  ...         0.000000   \n",
       "max                  1.000000              1.000000  ...         1.000000   \n",
       "\n",
       "       society_WoarkEm  society_Xeitaa   society_YCnce R  society_Yaenti   \\\n",
       "count     10656.000000     10656.000000     10656.000000     10656.000000   \n",
       "mean          0.000094         0.000094         0.000188         0.000094   \n",
       "std           0.009687         0.009687         0.013699         0.009687   \n",
       "min           0.000000         0.000000         0.000000         0.000000   \n",
       "25%           0.000000         0.000000         0.000000         0.000000   \n",
       "50%           0.000000         0.000000         0.000000         0.000000   \n",
       "75%           0.000000         0.000000         0.000000         0.000000   \n",
       "max           1.000000         1.000000         1.000000         1.000000   \n",
       "\n",
       "       society_ZeodsWo  society_Zonce E  society_Zostaa   society_i1odsne  \\\n",
       "count     10656.000000     10656.000000     10656.000000     10656.000000   \n",
       "mean          0.000094         0.000188         0.000282         0.000094   \n",
       "std           0.009687         0.013699         0.016777         0.009687   \n",
       "min           0.000000         0.000000         0.000000         0.000000   \n",
       "25%           0.000000         0.000000         0.000000         0.000000   \n",
       "50%           0.000000         0.000000         0.000000         0.000000   \n",
       "75%           0.000000         0.000000         0.000000         0.000000   \n",
       "max           1.000000         1.000000         1.000000         1.000000   \n",
       "\n",
       "       society_i1rtsCo  \n",
       "count     10656.000000  \n",
       "mean          0.000282  \n",
       "std           0.016777  \n",
       "min           0.000000  \n",
       "25%           0.000000  \n",
       "50%           0.000000  \n",
       "75%           0.000000  \n",
       "max           1.000000  \n",
       "\n",
       "[8 rows x 3586 columns]"
      ]
     },
     "execution_count": 222,
     "metadata": {},
     "output_type": "execute_result"
    }
   ],
   "source": [
    "data_encoded.describe()"
   ]
  },
  {
   "cell_type": "code",
   "execution_count": 235,
   "id": "085e6ce9",
   "metadata": {},
   "outputs": [
    {
     "name": "stdout",
     "output_type": "stream",
     "text": [
      "   size  total_sqft  bath  balcony   price  dist_from_city  avg_2bhk_rent  \\\n",
      "0     2      1056.0   2.0      1.0   39.07            19.3   11500.000000   \n",
      "1     4      2600.0   5.0      3.0  120.00            34.6   15363.440109   \n",
      "2     3      1440.0   2.0      3.0   62.00            12.9   19750.000000   \n",
      "3     3      1521.0   3.0      1.0   95.00            21.4   15363.440109   \n",
      "4     2      1200.0   2.0      1.0   51.00            11.8   16375.000000   \n",
      "\n",
      "   area_type_Built-up  Area  area_type_Carpet  Area  area_type_Plot  Area  \\\n",
      "0                       0.0                     0.0                   0.0   \n",
      "1                       0.0                     0.0                   1.0   \n",
      "2                       1.0                     0.0                   0.0   \n",
      "3                       0.0                     0.0                   0.0   \n",
      "4                       0.0                     0.0                   0.0   \n",
      "\n",
      "   ...  society_WishiVa  society_WoarkEm  society_Xeitaa   society_YCnce R  \\\n",
      "0  ...              0.0              0.0              0.0              0.0   \n",
      "1  ...              0.0              0.0              0.0              0.0   \n",
      "2  ...              0.0              0.0              0.0              0.0   \n",
      "3  ...              0.0              0.0              0.0              0.0   \n",
      "4  ...              0.0              0.0              0.0              0.0   \n",
      "\n",
      "   society_Yaenti   society_ZeodsWo  society_Zonce E  society_Zostaa   \\\n",
      "0              0.0              0.0              0.0              0.0   \n",
      "1              0.0              0.0              0.0              0.0   \n",
      "2              0.0              0.0              0.0              0.0   \n",
      "3              0.0              0.0              0.0              0.0   \n",
      "4              0.0              0.0              0.0              0.0   \n",
      "\n",
      "   society_i1odsne  society_i1rtsCo  \n",
      "0              0.0              0.0  \n",
      "1              0.0              0.0  \n",
      "2              0.0              0.0  \n",
      "3              0.0              0.0  \n",
      "4              0.0              0.0  \n",
      "\n",
      "[5 rows x 3586 columns]\n"
     ]
    }
   ],
   "source": [
    "print(data_encoded.head())"
   ]
  },
  {
   "cell_type": "code",
   "execution_count": 223,
   "id": "6c9e3a02",
   "metadata": {},
   "outputs": [
    {
     "data": {
      "text/plain": [
       "6.751465018413554"
      ]
     },
     "execution_count": 223,
     "metadata": {},
     "output_type": "execute_result"
    }
   ],
   "source": [
    "data_encoded.price.skew()"
   ]
  },
  {
   "cell_type": "code",
   "execution_count": 224,
   "id": "8266b0fb",
   "metadata": {
    "scrolled": true
   },
   "outputs": [
    {
     "name": "stderr",
     "output_type": "stream",
     "text": [
      "C:\\Users\\Apoorva H J\\AppData\\Local\\Temp\\ipykernel_27456\\2353411553.py:1: UserWarning: \n",
      "\n",
      "`distplot` is a deprecated function and will be removed in seaborn v0.14.0.\n",
      "\n",
      "Please adapt your code to use either `displot` (a figure-level function with\n",
      "similar flexibility) or `histplot` (an axes-level function for histograms).\n",
      "\n",
      "For a guide to updating your code to use the new functions, please see\n",
      "https://gist.github.com/mwaskom/de44147ed2974457ad6372750bbe5751\n",
      "\n",
      "  sns.distplot(sample_merge.price)\n"
     ]
    },
    {
     "data": {
      "text/plain": [
       "<Axes: xlabel='price', ylabel='Density'>"
      ]
     },
     "execution_count": 224,
     "metadata": {},
     "output_type": "execute_result"
    },
    {
     "data": {
      "image/png": "[encoded data removed]",
      "text/plain": [
       "<Figure size 640x480 with 1 Axes>"
      ]
     },
     "metadata": {},
     "output_type": "display_data"
    }
   ],
   "source": [
    "sns.distplot(sample_merge.price)"
   ]
  },
  {
   "cell_type": "markdown",
   "id": "d8fff264",
   "metadata": {},
   "source": [
    "### Handling Numerical feature"
   ]
  },
  {
   "cell_type": "code",
   "execution_count": 225,
   "id": "8a9b3957",
   "metadata": {
    "scrolled": false
   },
   "outputs": [
    {
     "data": {
      "text/html": [
       "<div>\n",
       "<style scoped>\n",
       "    .dataframe tbody tr th:only-of-type {\n",
       "        vertical-align: middle;\n",
       "    }\n",
       "\n",
       "    .dataframe tbody tr th {\n",
       "        vertical-align: top;\n",
       "    }\n",
       "\n",
       "    .dataframe thead th {\n",
       "        text-align: right;\n",
       "    }\n",
       "</style>\n",
       "<table border=\"1\" class=\"dataframe\">\n",
       "  <thead>\n",
       "    <tr style=\"text-align: right;\">\n",
       "      <th></th>\n",
       "      <th>size</th>\n",
       "      <th>total_sqft</th>\n",
       "      <th>bath</th>\n",
       "      <th>balcony</th>\n",
       "      <th>price</th>\n",
       "      <th>dist_from_city</th>\n",
       "      <th>avg_2bhk_rent</th>\n",
       "      <th>area_type_Built-up  Area</th>\n",
       "      <th>area_type_Carpet  Area</th>\n",
       "      <th>area_type_Plot  Area</th>\n",
       "      <th>...</th>\n",
       "      <th>society_WishiVa</th>\n",
       "      <th>society_WoarkEm</th>\n",
       "      <th>society_Xeitaa</th>\n",
       "      <th>society_YCnce R</th>\n",
       "      <th>society_Yaenti</th>\n",
       "      <th>society_ZeodsWo</th>\n",
       "      <th>society_Zonce E</th>\n",
       "      <th>society_Zostaa</th>\n",
       "      <th>society_i1odsne</th>\n",
       "      <th>society_i1rtsCo</th>\n",
       "    </tr>\n",
       "  </thead>\n",
       "  <tbody>\n",
       "    <tr>\n",
       "      <th>count</th>\n",
       "      <td>10656.00000</td>\n",
       "      <td>10656.000000</td>\n",
       "      <td>10656.000000</td>\n",
       "      <td>10656.000000</td>\n",
       "      <td>10656.000000</td>\n",
       "      <td>10656.000000</td>\n",
       "      <td>10656.000000</td>\n",
       "      <td>10656.000000</td>\n",
       "      <td>10656.000000</td>\n",
       "      <td>10656.000000</td>\n",
       "      <td>...</td>\n",
       "      <td>10656.000000</td>\n",
       "      <td>10656.000000</td>\n",
       "      <td>10656.000000</td>\n",
       "      <td>10656.000000</td>\n",
       "      <td>10656.000000</td>\n",
       "      <td>10656.000000</td>\n",
       "      <td>10656.000000</td>\n",
       "      <td>10656.000000</td>\n",
       "      <td>10656.000000</td>\n",
       "      <td>10656.000000</td>\n",
       "    </tr>\n",
       "    <tr>\n",
       "      <th>mean</th>\n",
       "      <td>2.79786</td>\n",
       "      <td>1556.040879</td>\n",
       "      <td>2.674174</td>\n",
       "      <td>1.506944</td>\n",
       "      <td>112.214256</td>\n",
       "      <td>15.191080</td>\n",
       "      <td>15363.440109</td>\n",
       "      <td>0.180837</td>\n",
       "      <td>0.006475</td>\n",
       "      <td>0.154936</td>\n",
       "      <td>...</td>\n",
       "      <td>0.000094</td>\n",
       "      <td>0.000094</td>\n",
       "      <td>0.000094</td>\n",
       "      <td>0.000188</td>\n",
       "      <td>0.000094</td>\n",
       "      <td>0.000094</td>\n",
       "      <td>0.000188</td>\n",
       "      <td>0.000282</td>\n",
       "      <td>0.000094</td>\n",
       "      <td>0.000282</td>\n",
       "    </tr>\n",
       "    <tr>\n",
       "      <th>std</th>\n",
       "      <td>1.31449</td>\n",
       "      <td>1274.324444</td>\n",
       "      <td>1.364452</td>\n",
       "      <td>0.869175</td>\n",
       "      <td>142.231967</td>\n",
       "      <td>5.934526</td>\n",
       "      <td>8486.991057</td>\n",
       "      <td>0.384901</td>\n",
       "      <td>0.080212</td>\n",
       "      <td>0.361861</td>\n",
       "      <td>...</td>\n",
       "      <td>0.009687</td>\n",
       "      <td>0.009687</td>\n",
       "      <td>0.009687</td>\n",
       "      <td>0.013699</td>\n",
       "      <td>0.009687</td>\n",
       "      <td>0.009687</td>\n",
       "      <td>0.013699</td>\n",
       "      <td>0.016777</td>\n",
       "      <td>0.009687</td>\n",
       "      <td>0.016777</td>\n",
       "    </tr>\n",
       "    <tr>\n",
       "      <th>min</th>\n",
       "      <td>0.00000</td>\n",
       "      <td>1.000000</td>\n",
       "      <td>0.000000</td>\n",
       "      <td>0.000000</td>\n",
       "      <td>8.000000</td>\n",
       "      <td>1.900000</td>\n",
       "      <td>1756.000000</td>\n",
       "      <td>0.000000</td>\n",
       "      <td>0.000000</td>\n",
       "      <td>0.000000</td>\n",
       "      <td>...</td>\n",
       "      <td>0.000000</td>\n",
       "      <td>0.000000</td>\n",
       "      <td>0.000000</td>\n",
       "      <td>0.000000</td>\n",
       "      <td>0.000000</td>\n",
       "      <td>0.000000</td>\n",
       "      <td>0.000000</td>\n",
       "      <td>0.000000</td>\n",
       "      <td>0.000000</td>\n",
       "      <td>0.000000</td>\n",
       "    </tr>\n",
       "    <tr>\n",
       "      <th>25%</th>\n",
       "      <td>2.00000</td>\n",
       "      <td>1100.000000</td>\n",
       "      <td>2.000000</td>\n",
       "      <td>1.000000</td>\n",
       "      <td>50.000000</td>\n",
       "      <td>11.500000</td>\n",
       "      <td>15363.440109</td>\n",
       "      <td>0.000000</td>\n",
       "      <td>0.000000</td>\n",
       "      <td>0.000000</td>\n",
       "      <td>...</td>\n",
       "      <td>0.000000</td>\n",
       "      <td>0.000000</td>\n",
       "      <td>0.000000</td>\n",
       "      <td>0.000000</td>\n",
       "      <td>0.000000</td>\n",
       "      <td>0.000000</td>\n",
       "      <td>0.000000</td>\n",
       "      <td>0.000000</td>\n",
       "      <td>0.000000</td>\n",
       "      <td>0.000000</td>\n",
       "    </tr>\n",
       "    <tr>\n",
       "      <th>50%</th>\n",
       "      <td>3.00000</td>\n",
       "      <td>1272.000000</td>\n",
       "      <td>2.000000</td>\n",
       "      <td>2.000000</td>\n",
       "      <td>72.000000</td>\n",
       "      <td>15.100000</td>\n",
       "      <td>15363.440109</td>\n",
       "      <td>0.000000</td>\n",
       "      <td>0.000000</td>\n",
       "      <td>0.000000</td>\n",
       "      <td>...</td>\n",
       "      <td>0.000000</td>\n",
       "      <td>0.000000</td>\n",
       "      <td>0.000000</td>\n",
       "      <td>0.000000</td>\n",
       "      <td>0.000000</td>\n",
       "      <td>0.000000</td>\n",
       "      <td>0.000000</td>\n",
       "      <td>0.000000</td>\n",
       "      <td>0.000000</td>\n",
       "      <td>0.000000</td>\n",
       "    </tr>\n",
       "    <tr>\n",
       "      <th>75%</th>\n",
       "      <td>3.00000</td>\n",
       "      <td>1678.000000</td>\n",
       "      <td>3.000000</td>\n",
       "      <td>2.000000</td>\n",
       "      <td>120.000000</td>\n",
       "      <td>17.300000</td>\n",
       "      <td>15363.440109</td>\n",
       "      <td>0.000000</td>\n",
       "      <td>0.000000</td>\n",
       "      <td>0.000000</td>\n",
       "      <td>...</td>\n",
       "      <td>0.000000</td>\n",
       "      <td>0.000000</td>\n",
       "      <td>0.000000</td>\n",
       "      <td>0.000000</td>\n",
       "      <td>0.000000</td>\n",
       "      <td>0.000000</td>\n",
       "      <td>0.000000</td>\n",
       "      <td>0.000000</td>\n",
       "      <td>0.000000</td>\n",
       "      <td>0.000000</td>\n",
       "    </tr>\n",
       "    <tr>\n",
       "      <th>max</th>\n",
       "      <td>43.00000</td>\n",
       "      <td>52272.000000</td>\n",
       "      <td>40.000000</td>\n",
       "      <td>3.000000</td>\n",
       "      <td>2700.000000</td>\n",
       "      <td>47.700000</td>\n",
       "      <td>800000.000000</td>\n",
       "      <td>1.000000</td>\n",
       "      <td>1.000000</td>\n",
       "      <td>1.000000</td>\n",
       "      <td>...</td>\n",
       "      <td>1.000000</td>\n",
       "      <td>1.000000</td>\n",
       "      <td>1.000000</td>\n",
       "      <td>1.000000</td>\n",
       "      <td>1.000000</td>\n",
       "      <td>1.000000</td>\n",
       "      <td>1.000000</td>\n",
       "      <td>1.000000</td>\n",
       "      <td>1.000000</td>\n",
       "      <td>1.000000</td>\n",
       "    </tr>\n",
       "  </tbody>\n",
       "</table>\n",
       "<p>8 rows × 3586 columns</p>\n",
       "</div>"
      ],
      "text/plain": [
       "              size    total_sqft          bath       balcony         price  \\\n",
       "count  10656.00000  10656.000000  10656.000000  10656.000000  10656.000000   \n",
       "mean       2.79786   1556.040879      2.674174      1.506944    112.214256   \n",
       "std        1.31449   1274.324444      1.364452      0.869175    142.231967   \n",
       "min        0.00000      1.000000      0.000000      0.000000      8.000000   \n",
       "25%        2.00000   1100.000000      2.000000      1.000000     50.000000   \n",
       "50%        3.00000   1272.000000      2.000000      2.000000     72.000000   \n",
       "75%        3.00000   1678.000000      3.000000      2.000000    120.000000   \n",
       "max       43.00000  52272.000000     40.000000      3.000000   2700.000000   \n",
       "\n",
       "       dist_from_city  avg_2bhk_rent  area_type_Built-up  Area  \\\n",
       "count    10656.000000   10656.000000              10656.000000   \n",
       "mean        15.191080   15363.440109                  0.180837   \n",
       "std          5.934526    8486.991057                  0.384901   \n",
       "min          1.900000    1756.000000                  0.000000   \n",
       "25%         11.500000   15363.440109                  0.000000   \n",
       "50%         15.100000   15363.440109                  0.000000   \n",
       "75%         17.300000   15363.440109                  0.000000   \n",
       "max         47.700000  800000.000000                  1.000000   \n",
       "\n",
       "       area_type_Carpet  Area  area_type_Plot  Area  ...  society_WishiVa  \\\n",
       "count            10656.000000          10656.000000  ...     10656.000000   \n",
       "mean                 0.006475              0.154936  ...         0.000094   \n",
       "std                  0.080212              0.361861  ...         0.009687   \n",
       "min                  0.000000              0.000000  ...         0.000000   \n",
       "25%                  0.000000              0.000000  ...         0.000000   \n",
       "50%                  0.000000              0.000000  ...         0.000000   \n",
       "75%                  0.000000              0.000000  ...         0.000000   \n",
       "max                  1.000000              1.000000  ...         1.000000   \n",
       "\n",
       "       society_WoarkEm  society_Xeitaa   society_YCnce R  society_Yaenti   \\\n",
       "count     10656.000000     10656.000000     10656.000000     10656.000000   \n",
       "mean          0.000094         0.000094         0.000188         0.000094   \n",
       "std           0.009687         0.009687         0.013699         0.009687   \n",
       "min           0.000000         0.000000         0.000000         0.000000   \n",
       "25%           0.000000         0.000000         0.000000         0.000000   \n",
       "50%           0.000000         0.000000         0.000000         0.000000   \n",
       "75%           0.000000         0.000000         0.000000         0.000000   \n",
       "max           1.000000         1.000000         1.000000         1.000000   \n",
       "\n",
       "       society_ZeodsWo  society_Zonce E  society_Zostaa   society_i1odsne  \\\n",
       "count     10656.000000     10656.000000     10656.000000     10656.000000   \n",
       "mean          0.000094         0.000188         0.000282         0.000094   \n",
       "std           0.009687         0.013699         0.016777         0.009687   \n",
       "min           0.000000         0.000000         0.000000         0.000000   \n",
       "25%           0.000000         0.000000         0.000000         0.000000   \n",
       "50%           0.000000         0.000000         0.000000         0.000000   \n",
       "75%           0.000000         0.000000         0.000000         0.000000   \n",
       "max           1.000000         1.000000         1.000000         1.000000   \n",
       "\n",
       "       society_i1rtsCo  \n",
       "count     10656.000000  \n",
       "mean          0.000282  \n",
       "std           0.016777  \n",
       "min           0.000000  \n",
       "25%           0.000000  \n",
       "50%           0.000000  \n",
       "75%           0.000000  \n",
       "max           1.000000  \n",
       "\n",
       "[8 rows x 3586 columns]"
      ]
     },
     "execution_count": 225,
     "metadata": {},
     "output_type": "execute_result"
    }
   ],
   "source": [
    "data_encoded.describe(include=np.number)"
   ]
  },
  {
   "cell_type": "code",
   "execution_count": 226,
   "id": "47219bba",
   "metadata": {},
   "outputs": [
    {
     "data": {
      "text/html": [
       "<div>\n",
       "<style scoped>\n",
       "    .dataframe tbody tr th:only-of-type {\n",
       "        vertical-align: middle;\n",
       "    }\n",
       "\n",
       "    .dataframe tbody tr th {\n",
       "        vertical-align: top;\n",
       "    }\n",
       "\n",
       "    .dataframe thead th {\n",
       "        text-align: right;\n",
       "    }\n",
       "</style>\n",
       "<table border=\"1\" class=\"dataframe\">\n",
       "  <thead>\n",
       "    <tr style=\"text-align: right;\">\n",
       "      <th></th>\n",
       "      <th>size</th>\n",
       "      <th>total_sqft</th>\n",
       "      <th>bath</th>\n",
       "      <th>balcony</th>\n",
       "      <th>price</th>\n",
       "      <th>dist_from_city</th>\n",
       "      <th>avg_2bhk_rent</th>\n",
       "      <th>area_type_Built-up  Area</th>\n",
       "      <th>area_type_Carpet  Area</th>\n",
       "      <th>area_type_Plot  Area</th>\n",
       "      <th>...</th>\n",
       "      <th>society_WishiVa</th>\n",
       "      <th>society_WoarkEm</th>\n",
       "      <th>society_Xeitaa</th>\n",
       "      <th>society_YCnce R</th>\n",
       "      <th>society_Yaenti</th>\n",
       "      <th>society_ZeodsWo</th>\n",
       "      <th>society_Zonce E</th>\n",
       "      <th>society_Zostaa</th>\n",
       "      <th>society_i1odsne</th>\n",
       "      <th>society_i1rtsCo</th>\n",
       "    </tr>\n",
       "  </thead>\n",
       "  <tbody>\n",
       "    <tr>\n",
       "      <th>0</th>\n",
       "      <td>2</td>\n",
       "      <td>1056.0</td>\n",
       "      <td>2.0</td>\n",
       "      <td>1.0</td>\n",
       "      <td>39.07</td>\n",
       "      <td>19.30000</td>\n",
       "      <td>11500.000000</td>\n",
       "      <td>0.0</td>\n",
       "      <td>0.0</td>\n",
       "      <td>0.0</td>\n",
       "      <td>...</td>\n",
       "      <td>0.0</td>\n",
       "      <td>0.0</td>\n",
       "      <td>0.0</td>\n",
       "      <td>0.0</td>\n",
       "      <td>0.0</td>\n",
       "      <td>0.0</td>\n",
       "      <td>0.0</td>\n",
       "      <td>0.0</td>\n",
       "      <td>0.0</td>\n",
       "      <td>0.0</td>\n",
       "    </tr>\n",
       "    <tr>\n",
       "      <th>1</th>\n",
       "      <td>4</td>\n",
       "      <td>2600.0</td>\n",
       "      <td>5.0</td>\n",
       "      <td>3.0</td>\n",
       "      <td>120.00</td>\n",
       "      <td>34.60000</td>\n",
       "      <td>15363.440109</td>\n",
       "      <td>0.0</td>\n",
       "      <td>0.0</td>\n",
       "      <td>1.0</td>\n",
       "      <td>...</td>\n",
       "      <td>0.0</td>\n",
       "      <td>0.0</td>\n",
       "      <td>0.0</td>\n",
       "      <td>0.0</td>\n",
       "      <td>0.0</td>\n",
       "      <td>0.0</td>\n",
       "      <td>0.0</td>\n",
       "      <td>0.0</td>\n",
       "      <td>0.0</td>\n",
       "      <td>0.0</td>\n",
       "    </tr>\n",
       "    <tr>\n",
       "      <th>2</th>\n",
       "      <td>3</td>\n",
       "      <td>1440.0</td>\n",
       "      <td>2.0</td>\n",
       "      <td>3.0</td>\n",
       "      <td>62.00</td>\n",
       "      <td>12.90000</td>\n",
       "      <td>19750.000000</td>\n",
       "      <td>1.0</td>\n",
       "      <td>0.0</td>\n",
       "      <td>0.0</td>\n",
       "      <td>...</td>\n",
       "      <td>0.0</td>\n",
       "      <td>0.0</td>\n",
       "      <td>0.0</td>\n",
       "      <td>0.0</td>\n",
       "      <td>0.0</td>\n",
       "      <td>0.0</td>\n",
       "      <td>0.0</td>\n",
       "      <td>0.0</td>\n",
       "      <td>0.0</td>\n",
       "      <td>0.0</td>\n",
       "    </tr>\n",
       "    <tr>\n",
       "      <th>3</th>\n",
       "      <td>3</td>\n",
       "      <td>1521.0</td>\n",
       "      <td>3.0</td>\n",
       "      <td>1.0</td>\n",
       "      <td>95.00</td>\n",
       "      <td>21.40000</td>\n",
       "      <td>15363.440109</td>\n",
       "      <td>0.0</td>\n",
       "      <td>0.0</td>\n",
       "      <td>0.0</td>\n",
       "      <td>...</td>\n",
       "      <td>0.0</td>\n",
       "      <td>0.0</td>\n",
       "      <td>0.0</td>\n",
       "      <td>0.0</td>\n",
       "      <td>0.0</td>\n",
       "      <td>0.0</td>\n",
       "      <td>0.0</td>\n",
       "      <td>0.0</td>\n",
       "      <td>0.0</td>\n",
       "      <td>0.0</td>\n",
       "    </tr>\n",
       "    <tr>\n",
       "      <th>4</th>\n",
       "      <td>2</td>\n",
       "      <td>1200.0</td>\n",
       "      <td>2.0</td>\n",
       "      <td>1.0</td>\n",
       "      <td>51.00</td>\n",
       "      <td>11.80000</td>\n",
       "      <td>16375.000000</td>\n",
       "      <td>0.0</td>\n",
       "      <td>0.0</td>\n",
       "      <td>0.0</td>\n",
       "      <td>...</td>\n",
       "      <td>0.0</td>\n",
       "      <td>0.0</td>\n",
       "      <td>0.0</td>\n",
       "      <td>0.0</td>\n",
       "      <td>0.0</td>\n",
       "      <td>0.0</td>\n",
       "      <td>0.0</td>\n",
       "      <td>0.0</td>\n",
       "      <td>0.0</td>\n",
       "      <td>0.0</td>\n",
       "    </tr>\n",
       "    <tr>\n",
       "      <th>...</th>\n",
       "      <td>...</td>\n",
       "      <td>...</td>\n",
       "      <td>...</td>\n",
       "      <td>...</td>\n",
       "      <td>...</td>\n",
       "      <td>...</td>\n",
       "      <td>...</td>\n",
       "      <td>...</td>\n",
       "      <td>...</td>\n",
       "      <td>...</td>\n",
       "      <td>...</td>\n",
       "      <td>...</td>\n",
       "      <td>...</td>\n",
       "      <td>...</td>\n",
       "      <td>...</td>\n",
       "      <td>...</td>\n",
       "      <td>...</td>\n",
       "      <td>...</td>\n",
       "      <td>...</td>\n",
       "      <td>...</td>\n",
       "      <td>...</td>\n",
       "    </tr>\n",
       "    <tr>\n",
       "      <th>10651</th>\n",
       "      <td>1</td>\n",
       "      <td>1200.0</td>\n",
       "      <td>1.0</td>\n",
       "      <td>0.0</td>\n",
       "      <td>45.00</td>\n",
       "      <td>14.60000</td>\n",
       "      <td>15363.440109</td>\n",
       "      <td>0.0</td>\n",
       "      <td>0.0</td>\n",
       "      <td>1.0</td>\n",
       "      <td>...</td>\n",
       "      <td>0.0</td>\n",
       "      <td>0.0</td>\n",
       "      <td>0.0</td>\n",
       "      <td>0.0</td>\n",
       "      <td>0.0</td>\n",
       "      <td>0.0</td>\n",
       "      <td>0.0</td>\n",
       "      <td>0.0</td>\n",
       "      <td>0.0</td>\n",
       "      <td>0.0</td>\n",
       "    </tr>\n",
       "    <tr>\n",
       "      <th>10652</th>\n",
       "      <td>2</td>\n",
       "      <td>1260.0</td>\n",
       "      <td>2.0</td>\n",
       "      <td>1.0</td>\n",
       "      <td>69.90</td>\n",
       "      <td>15.30000</td>\n",
       "      <td>15363.440109</td>\n",
       "      <td>0.0</td>\n",
       "      <td>0.0</td>\n",
       "      <td>0.0</td>\n",
       "      <td>...</td>\n",
       "      <td>0.0</td>\n",
       "      <td>0.0</td>\n",
       "      <td>0.0</td>\n",
       "      <td>0.0</td>\n",
       "      <td>0.0</td>\n",
       "      <td>0.0</td>\n",
       "      <td>0.0</td>\n",
       "      <td>0.0</td>\n",
       "      <td>0.0</td>\n",
       "      <td>0.0</td>\n",
       "    </tr>\n",
       "    <tr>\n",
       "      <th>10653</th>\n",
       "      <td>2</td>\n",
       "      <td>1092.0</td>\n",
       "      <td>2.0</td>\n",
       "      <td>1.0</td>\n",
       "      <td>49.00</td>\n",
       "      <td>13.40000</td>\n",
       "      <td>15363.440109</td>\n",
       "      <td>0.0</td>\n",
       "      <td>0.0</td>\n",
       "      <td>0.0</td>\n",
       "      <td>...</td>\n",
       "      <td>0.0</td>\n",
       "      <td>0.0</td>\n",
       "      <td>0.0</td>\n",
       "      <td>0.0</td>\n",
       "      <td>0.0</td>\n",
       "      <td>0.0</td>\n",
       "      <td>0.0</td>\n",
       "      <td>0.0</td>\n",
       "      <td>0.0</td>\n",
       "      <td>0.0</td>\n",
       "    </tr>\n",
       "    <tr>\n",
       "      <th>10654</th>\n",
       "      <td>2</td>\n",
       "      <td>827.0</td>\n",
       "      <td>2.0</td>\n",
       "      <td>0.0</td>\n",
       "      <td>34.00</td>\n",
       "      <td>15.19108</td>\n",
       "      <td>15363.440109</td>\n",
       "      <td>0.0</td>\n",
       "      <td>0.0</td>\n",
       "      <td>0.0</td>\n",
       "      <td>...</td>\n",
       "      <td>0.0</td>\n",
       "      <td>0.0</td>\n",
       "      <td>0.0</td>\n",
       "      <td>0.0</td>\n",
       "      <td>0.0</td>\n",
       "      <td>0.0</td>\n",
       "      <td>0.0</td>\n",
       "      <td>0.0</td>\n",
       "      <td>0.0</td>\n",
       "      <td>0.0</td>\n",
       "    </tr>\n",
       "    <tr>\n",
       "      <th>10655</th>\n",
       "      <td>2</td>\n",
       "      <td>1357.0</td>\n",
       "      <td>2.0</td>\n",
       "      <td>2.0</td>\n",
       "      <td>54.00</td>\n",
       "      <td>9.90000</td>\n",
       "      <td>15363.440109</td>\n",
       "      <td>0.0</td>\n",
       "      <td>0.0</td>\n",
       "      <td>0.0</td>\n",
       "      <td>...</td>\n",
       "      <td>0.0</td>\n",
       "      <td>0.0</td>\n",
       "      <td>0.0</td>\n",
       "      <td>0.0</td>\n",
       "      <td>0.0</td>\n",
       "      <td>0.0</td>\n",
       "      <td>0.0</td>\n",
       "      <td>0.0</td>\n",
       "      <td>0.0</td>\n",
       "      <td>0.0</td>\n",
       "    </tr>\n",
       "  </tbody>\n",
       "</table>\n",
       "<p>10656 rows × 3586 columns</p>\n",
       "</div>"
      ],
      "text/plain": [
       "       size  total_sqft  bath  balcony   price  dist_from_city  avg_2bhk_rent  \\\n",
       "0         2      1056.0   2.0      1.0   39.07        19.30000   11500.000000   \n",
       "1         4      2600.0   5.0      3.0  120.00        34.60000   15363.440109   \n",
       "2         3      1440.0   2.0      3.0   62.00        12.90000   19750.000000   \n",
       "3         3      1521.0   3.0      1.0   95.00        21.40000   15363.440109   \n",
       "4         2      1200.0   2.0      1.0   51.00        11.80000   16375.000000   \n",
       "...     ...         ...   ...      ...     ...             ...            ...   \n",
       "10651     1      1200.0   1.0      0.0   45.00        14.60000   15363.440109   \n",
       "10652     2      1260.0   2.0      1.0   69.90        15.30000   15363.440109   \n",
       "10653     2      1092.0   2.0      1.0   49.00        13.40000   15363.440109   \n",
       "10654     2       827.0   2.0      0.0   34.00        15.19108   15363.440109   \n",
       "10655     2      1357.0   2.0      2.0   54.00         9.90000   15363.440109   \n",
       "\n",
       "       area_type_Built-up  Area  area_type_Carpet  Area  area_type_Plot  Area  \\\n",
       "0                           0.0                     0.0                   0.0   \n",
       "1                           0.0                     0.0                   1.0   \n",
       "2                           1.0                     0.0                   0.0   \n",
       "3                           0.0                     0.0                   0.0   \n",
       "4                           0.0                     0.0                   0.0   \n",
       "...                         ...                     ...                   ...   \n",
       "10651                       0.0                     0.0                   1.0   \n",
       "10652                       0.0                     0.0                   0.0   \n",
       "10653                       0.0                     0.0                   0.0   \n",
       "10654                       0.0                     0.0                   0.0   \n",
       "10655                       0.0                     0.0                   0.0   \n",
       "\n",
       "       ...  society_WishiVa  society_WoarkEm  society_Xeitaa   \\\n",
       "0      ...              0.0              0.0              0.0   \n",
       "1      ...              0.0              0.0              0.0   \n",
       "2      ...              0.0              0.0              0.0   \n",
       "3      ...              0.0              0.0              0.0   \n",
       "4      ...              0.0              0.0              0.0   \n",
       "...    ...              ...              ...              ...   \n",
       "10651  ...              0.0              0.0              0.0   \n",
       "10652  ...              0.0              0.0              0.0   \n",
       "10653  ...              0.0              0.0              0.0   \n",
       "10654  ...              0.0              0.0              0.0   \n",
       "10655  ...              0.0              0.0              0.0   \n",
       "\n",
       "       society_YCnce R  society_Yaenti   society_ZeodsWo  society_Zonce E  \\\n",
       "0                  0.0              0.0              0.0              0.0   \n",
       "1                  0.0              0.0              0.0              0.0   \n",
       "2                  0.0              0.0              0.0              0.0   \n",
       "3                  0.0              0.0              0.0              0.0   \n",
       "4                  0.0              0.0              0.0              0.0   \n",
       "...                ...              ...              ...              ...   \n",
       "10651              0.0              0.0              0.0              0.0   \n",
       "10652              0.0              0.0              0.0              0.0   \n",
       "10653              0.0              0.0              0.0              0.0   \n",
       "10654              0.0              0.0              0.0              0.0   \n",
       "10655              0.0              0.0              0.0              0.0   \n",
       "\n",
       "       society_Zostaa   society_i1odsne  society_i1rtsCo  \n",
       "0                  0.0              0.0              0.0  \n",
       "1                  0.0              0.0              0.0  \n",
       "2                  0.0              0.0              0.0  \n",
       "3                  0.0              0.0              0.0  \n",
       "4                  0.0              0.0              0.0  \n",
       "...                ...              ...              ...  \n",
       "10651              0.0              0.0              0.0  \n",
       "10652              0.0              0.0              0.0  \n",
       "10653              0.0              0.0              0.0  \n",
       "10654              0.0              0.0              0.0  \n",
       "10655              0.0              0.0              0.0  \n",
       "\n",
       "[10656 rows x 3586 columns]"
      ]
     },
     "execution_count": 226,
     "metadata": {},
     "output_type": "execute_result"
    }
   ],
   "source": [
    "df_num = data_encoded.select_dtypes(include = np.number)\n",
    "df_num"
   ]
  },
  {
   "cell_type": "code",
   "execution_count": 227,
   "id": "1904122f",
   "metadata": {
    "scrolled": true
   },
   "outputs": [
    {
     "data": {
      "image/png": "[encoded data removed]",
      "text/plain": [
       "<Figure size 1500x800 with 6 Axes>"
      ]
     },
     "metadata": {},
     "output_type": "display_data"
    }
   ],
   "source": [
    "fig , ax = plt.subplots(2,3,figsize=(15,8))\n",
    "for variable , subplot in zip(df_num.columns,ax.flatten()):\n",
    "    z=sns.boxplot(x=df_num[variable],orient='h',whis=1.5,ax=subplot)\n",
    "    z.set_xlabel(variable,fontsize=20)"
   ]
  },
  {
   "cell_type": "code",
   "execution_count": 237,
   "id": "b2869d4a",
   "metadata": {
    "scrolled": true
   },
   "outputs": [
    {
     "name": "stdout",
     "output_type": "stream",
     "text": [
      "<class 'pandas.core.frame.DataFrame'>\n",
      "Int64Index: 9625 entries, 0 to 10655\n",
      "Columns: 3586 entries, size to society_i1rtsCo\n",
      "dtypes: float64(3585), int64(1)\n",
      "memory usage: 263.4 MB\n"
     ]
    }
   ],
   "source": [
    "#defing outliers using IQR method\n",
    "def remove_outliers(df, column):\n",
    "    Q1 = df[column].quantile(0.25)\n",
    "    Q3 = df[column].quantile(0.75)\n",
    "    IQR = Q3 - Q1\n",
    "    lower_bound = Q1 - 1.5 * IQR\n",
    "    upper_bound = Q3 + 1.5 * IQR\n",
    "    df_outliers_removed = df[(df[column] >= lower_bound) & (df[column] <= upper_bound)]\n",
    "    return df_outliers_removed\n",
    "df = remove_outliers(data_encoded, 'price')\n",
    "df.info()"
   ]
  },
  {
   "cell_type": "code",
   "execution_count": 240,
   "id": "eb30f09e",
   "metadata": {},
   "outputs": [],
   "source": [
    "# Convert the 'total_sqft' column to numeric, handling ranges by taking their average\n",
    "def convert_sqft_to_num(sqft):\n",
    "    try:\n",
    "        return float(sqft)\n",
    "    except:\n",
    "        tokens = sqft.split('-')\n",
    "        if len(tokens) == 2:\n",
    "            return (float(tokens[0]) + float(tokens[1])) / 2\n",
    "        else:\n",
    "            return None\n",
    "\n",
    "# Apply the function to the 'total_sqft' column\n",
    "data_encoded['total_sqft'] = data_encoded['total_sqft'].apply(convert_sqft_to_num)\n",
    "test_data['total_sqft'] = test_data['total_sqft'].apply(convert_sqft_to_num)\n",
    "\n",
    "# Drop rows where 'total_sqft' could not be converted\n",
    "data_encoded = data_encoded.dropna(subset=['total_sqft'])\n",
    "test_data = data_encoded.dropna(subset=['total_sqft'])\n",
    "\n",
    "# Make sure there are no remaining non-numeric values in the 'total_sqft' column\n",
    "data_encoded = data_encoded[data_encoded['total_sqft'].apply(lambda x: isinstance(x, (int, float)))]\n",
    "test_data = data_encoded[test_data['total_sqft'].apply(lambda x: isinstance(x, (int, float)))]"
   ]
  },
  {
   "cell_type": "code",
   "execution_count": 241,
   "id": "92315137",
   "metadata": {},
   "outputs": [
    {
     "name": "stdout",
     "output_type": "stream",
     "text": [
      "Validation RMSE: 81.98211272502259\n"
     ]
    }
   ],
   "source": [
    "from sklearn.model_selection import train_test_split\n",
    "from sklearn.linear_model import LinearRegression\n",
    "from sklearn.metrics import mean_squared_error\n",
    "\n",
    "# Define features and target variable\n",
    "features = [\"total_sqft\", \"bath\", \"balcony\", \"avg_2bhk_rent\", \"dist_from_city\"]\n",
    "X = data_encoded[features]\n",
    "y = data_encoded[\"price\"]\n",
    "\n",
    "# Split the data into train and validation sets\n",
    "X_train, X_test, y_train, y_test = train_test_split(X, y, test_size=0.3, random_state=42)\n",
    "X_test, X_val, y_test, y_val = train_test_split(X_test, y_test, test_size=0.33, random_state=42)\n",
    "\n",
    "# Initialize and train the Linear Regression model\n",
    "model = LinearRegression()\n",
    "model.fit(X_train, y_train)\n",
    "\n",
    "# Predict on the validation set\n",
    "val_predictions = model.predict(X_val)\n",
    "\n",
    "# Evaluate the model using RMSE\n",
    "val_rmse = mean_squared_error(y_val, val_predictions, squared=False)\n",
    "print(\"Validation RMSE:\", val_rmse)\n",
    "\n",
    "df = pd.DataFrame({'price': y_test})\n",
    "\n",
    "# Add a new column 'ID' with values ranging from 0 to the length of the array minus 1\n",
    "df['ID'] = range(len(y_test))\n",
    "df = df[['ID', 'price']]\n",
    "# Export the DataFrame to a CSV file\n",
    "df.to_csv('price_predictions.csv', index=False)\n"
   ]
  },
  {
   "cell_type": "code",
   "execution_count": null,
   "id": "0e3adce2",
   "metadata": {},
   "outputs": [],
   "source": []
  }
 ],
 "metadata": {
  "kernelspec": {
   "display_name": "Python 3 (ipykernel)",
   "language": "python",
   "name": "python3"
  },
  "language_info": {
   "codemirror_mode": {
    "name": "ipython",
    "version": 3
   },
   "file_extension": ".py",
   "mimetype": "text/x-python",
   "name": "python",
   "nbconvert_exporter": "python",
   "pygments_lexer": "ipython3",
   "version": "3.11.5"
  }
 },
 "nbformat": 4,
 "nbformat_minor": 5
}
